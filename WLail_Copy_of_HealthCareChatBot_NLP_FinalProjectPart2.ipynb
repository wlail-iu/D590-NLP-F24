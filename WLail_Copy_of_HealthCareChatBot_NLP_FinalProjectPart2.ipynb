{
  "nbformat": 4,
  "nbformat_minor": 0,
  "metadata": {
    "colab": {
      "provenance": [],
      "include_colab_link": true
    },
    "kernelspec": {
      "name": "python3",
      "display_name": "Python 3"
    },
    "language_info": {
      "name": "python"
    }
  },
  "cells": [
    {
      "cell_type": "markdown",
      "metadata": {
        "id": "view-in-github",
        "colab_type": "text"
      },
      "source": [
        "<a href=\"https://colab.research.google.com/github/wlail-iu/D590-NLP-F24/blob/main/WLail_Copy_of_HealthCareChatBot_NLP_FinalProjectPart2.ipynb\" target=\"_parent\"><img src=\"https://colab.research.google.com/assets/colab-badge.svg\" alt=\"Open In Colab\"/></a>"
      ]
    },
    {
      "cell_type": "markdown",
      "source": [
        "\n",
        "# **NLP Final Project Part 2**\n",
        "\n",
        "# 1. Health Care ChatBot\n",
        "\n",
        "## Team Members\n",
        "\n",
        "<li> Amanda Alonzo\n",
        "<li> Wade Lail\n",
        "<li> Edmund Zarek"
      ],
      "metadata": {
        "id": "Zx-q-0mmYlzb"
      }
    },
    {
      "cell_type": "markdown",
      "source": [
        "\n",
        "\n",
        "# 2. Preprocessing Steps (30 pts)\n",
        "\n",
        "All essential steps necessary for our application\n",
        "<ol>\n",
        "<li> Install dependencies </li>\n",
        "<li> Load chatbot model </li>\n",
        "<li> Load health care Q&A data from file (\"train.csv\") </li>\n",
        "<li> Summarize answers for similar questions </li>\n",
        "<li> Perform custom name entity recognition for health care terms such as symptom, side effect, treatment, and prevention.</li>\n",
        "</ol>"
      ],
      "metadata": {
        "id": "2dXh3iQIZKta"
      }
    },
    {
      "cell_type": "code",
      "source": [
        "!python --version\n",
        "!pip install SQLAlchemy\n",
        "import sqlalchemy\n",
        "sqlalchemy.__version__\n",
        "!pip install ChatterBot2"
      ],
      "metadata": {
        "id": "8trWtuquX9bp",
        "colab": {
          "base_uri": "https://localhost:8080/"
        },
        "outputId": "103101f5-0cbb-4984-a0e0-733b67bf74fd"
      },
      "execution_count": 2,
      "outputs": [
        {
          "output_type": "stream",
          "name": "stdout",
          "text": [
            "Python 3.10.12\n",
            "Requirement already satisfied: SQLAlchemy in /usr/local/lib/python3.10/dist-packages (1.3.24)\n",
            "Requirement already satisfied: ChatterBot2 in /usr/local/lib/python3.10/dist-packages (1.1.0a7)\n",
            "Requirement already satisfied: mathparse<0.2,>=0.1 in /usr/local/lib/python3.10/dist-packages (from ChatterBot2) (0.1.2)\n",
            "Requirement already satisfied: python-dateutil<2.9,>=2.8 in /usr/local/lib/python3.10/dist-packages (from ChatterBot2) (2.8.2)\n",
            "Requirement already satisfied: sqlalchemy<1.4,>=1.3 in /usr/local/lib/python3.10/dist-packages (from ChatterBot2) (1.3.24)\n",
            "Requirement already satisfied: pytz in /usr/local/lib/python3.10/dist-packages (from ChatterBot2) (2024.2)\n",
            "Requirement already satisfied: six>=1.5 in /usr/local/lib/python3.10/dist-packages (from python-dateutil<2.9,>=2.8->ChatterBot2) (1.16.0)\n"
          ]
        }
      ]
    },
    {
      "cell_type": "code",
      "source": [
        "# load file for medical questions and answers that will be used to train the chatbot\n",
        "import pandas as pd\n",
        "\n",
        "df = pd.read_csv(\"train.csv\")\n",
        "df.head()"
      ],
      "metadata": {
        "colab": {
          "base_uri": "https://localhost:8080/",
          "height": 240
        },
        "id": "r95mRPjTh1jm",
        "outputId": "09f5b516-5291-47f0-9b67-fea8f48e70f2"
      },
      "execution_count": null,
      "outputs": [
        {
          "output_type": "execute_result",
          "data": {
            "text/plain": [
              "             qtype                                           Question  \\\n",
              "0   susceptibility  Who is at risk for Lymphocytic Choriomeningiti...   \n",
              "1         symptoms  What are the symptoms of Lymphocytic Choriomen...   \n",
              "2   susceptibility  Who is at risk for Lymphocytic Choriomeningiti...   \n",
              "3  exams and tests  How to diagnose Lymphocytic Choriomeningitis (...   \n",
              "4        treatment  What are the treatments for Lymphocytic Chorio...   \n",
              "\n",
              "                                              Answer  \n",
              "0  LCMV infections can occur after exposure to fr...  \n",
              "1  LCMV is most commonly recognized as causing ne...  \n",
              "2  Individuals of all ages who come into contact ...  \n",
              "3  During the first phase of the disease, the mos...  \n",
              "4  Aseptic meningitis, encephalitis, or meningoen...  "
            ],
            "text/html": [
              "\n",
              "  <div id=\"df-85df5463-03a1-4b22-988a-5fc32761d6d1\" class=\"colab-df-container\">\n",
              "    <div>\n",
              "<style scoped>\n",
              "    .dataframe tbody tr th:only-of-type {\n",
              "        vertical-align: middle;\n",
              "    }\n",
              "\n",
              "    .dataframe tbody tr th {\n",
              "        vertical-align: top;\n",
              "    }\n",
              "\n",
              "    .dataframe thead th {\n",
              "        text-align: right;\n",
              "    }\n",
              "</style>\n",
              "<table border=\"1\" class=\"dataframe\">\n",
              "  <thead>\n",
              "    <tr style=\"text-align: right;\">\n",
              "      <th></th>\n",
              "      <th>qtype</th>\n",
              "      <th>Question</th>\n",
              "      <th>Answer</th>\n",
              "    </tr>\n",
              "  </thead>\n",
              "  <tbody>\n",
              "    <tr>\n",
              "      <th>0</th>\n",
              "      <td>susceptibility</td>\n",
              "      <td>Who is at risk for Lymphocytic Choriomeningiti...</td>\n",
              "      <td>LCMV infections can occur after exposure to fr...</td>\n",
              "    </tr>\n",
              "    <tr>\n",
              "      <th>1</th>\n",
              "      <td>symptoms</td>\n",
              "      <td>What are the symptoms of Lymphocytic Choriomen...</td>\n",
              "      <td>LCMV is most commonly recognized as causing ne...</td>\n",
              "    </tr>\n",
              "    <tr>\n",
              "      <th>2</th>\n",
              "      <td>susceptibility</td>\n",
              "      <td>Who is at risk for Lymphocytic Choriomeningiti...</td>\n",
              "      <td>Individuals of all ages who come into contact ...</td>\n",
              "    </tr>\n",
              "    <tr>\n",
              "      <th>3</th>\n",
              "      <td>exams and tests</td>\n",
              "      <td>How to diagnose Lymphocytic Choriomeningitis (...</td>\n",
              "      <td>During the first phase of the disease, the mos...</td>\n",
              "    </tr>\n",
              "    <tr>\n",
              "      <th>4</th>\n",
              "      <td>treatment</td>\n",
              "      <td>What are the treatments for Lymphocytic Chorio...</td>\n",
              "      <td>Aseptic meningitis, encephalitis, or meningoen...</td>\n",
              "    </tr>\n",
              "  </tbody>\n",
              "</table>\n",
              "</div>\n",
              "    <div class=\"colab-df-buttons\">\n",
              "\n",
              "  <div class=\"colab-df-container\">\n",
              "    <button class=\"colab-df-convert\" onclick=\"convertToInteractive('df-85df5463-03a1-4b22-988a-5fc32761d6d1')\"\n",
              "            title=\"Convert this dataframe to an interactive table.\"\n",
              "            style=\"display:none;\">\n",
              "\n",
              "  <svg xmlns=\"http://www.w3.org/2000/svg\" height=\"24px\" viewBox=\"0 -960 960 960\">\n",
              "    <path d=\"M120-120v-720h720v720H120Zm60-500h600v-160H180v160Zm220 220h160v-160H400v160Zm0 220h160v-160H400v160ZM180-400h160v-160H180v160Zm440 0h160v-160H620v160ZM180-180h160v-160H180v160Zm440 0h160v-160H620v160Z\"/>\n",
              "  </svg>\n",
              "    </button>\n",
              "\n",
              "  <style>\n",
              "    .colab-df-container {\n",
              "      display:flex;\n",
              "      gap: 12px;\n",
              "    }\n",
              "\n",
              "    .colab-df-convert {\n",
              "      background-color: #E8F0FE;\n",
              "      border: none;\n",
              "      border-radius: 50%;\n",
              "      cursor: pointer;\n",
              "      display: none;\n",
              "      fill: #1967D2;\n",
              "      height: 32px;\n",
              "      padding: 0 0 0 0;\n",
              "      width: 32px;\n",
              "    }\n",
              "\n",
              "    .colab-df-convert:hover {\n",
              "      background-color: #E2EBFA;\n",
              "      box-shadow: 0px 1px 2px rgba(60, 64, 67, 0.3), 0px 1px 3px 1px rgba(60, 64, 67, 0.15);\n",
              "      fill: #174EA6;\n",
              "    }\n",
              "\n",
              "    .colab-df-buttons div {\n",
              "      margin-bottom: 4px;\n",
              "    }\n",
              "\n",
              "    [theme=dark] .colab-df-convert {\n",
              "      background-color: #3B4455;\n",
              "      fill: #D2E3FC;\n",
              "    }\n",
              "\n",
              "    [theme=dark] .colab-df-convert:hover {\n",
              "      background-color: #434B5C;\n",
              "      box-shadow: 0px 1px 3px 1px rgba(0, 0, 0, 0.15);\n",
              "      filter: drop-shadow(0px 1px 2px rgba(0, 0, 0, 0.3));\n",
              "      fill: #FFFFFF;\n",
              "    }\n",
              "  </style>\n",
              "\n",
              "    <script>\n",
              "      const buttonEl =\n",
              "        document.querySelector('#df-85df5463-03a1-4b22-988a-5fc32761d6d1 button.colab-df-convert');\n",
              "      buttonEl.style.display =\n",
              "        google.colab.kernel.accessAllowed ? 'block' : 'none';\n",
              "\n",
              "      async function convertToInteractive(key) {\n",
              "        const element = document.querySelector('#df-85df5463-03a1-4b22-988a-5fc32761d6d1');\n",
              "        const dataTable =\n",
              "          await google.colab.kernel.invokeFunction('convertToInteractive',\n",
              "                                                    [key], {});\n",
              "        if (!dataTable) return;\n",
              "\n",
              "        const docLinkHtml = 'Like what you see? Visit the ' +\n",
              "          '<a target=\"_blank\" href=https://colab.research.google.com/notebooks/data_table.ipynb>data table notebook</a>'\n",
              "          + ' to learn more about interactive tables.';\n",
              "        element.innerHTML = '';\n",
              "        dataTable['output_type'] = 'display_data';\n",
              "        await google.colab.output.renderOutput(dataTable, element);\n",
              "        const docLink = document.createElement('div');\n",
              "        docLink.innerHTML = docLinkHtml;\n",
              "        element.appendChild(docLink);\n",
              "      }\n",
              "    </script>\n",
              "  </div>\n",
              "\n",
              "\n",
              "<div id=\"df-edeab7cc-6324-4274-a2af-c32017fa87e4\">\n",
              "  <button class=\"colab-df-quickchart\" onclick=\"quickchart('df-edeab7cc-6324-4274-a2af-c32017fa87e4')\"\n",
              "            title=\"Suggest charts\"\n",
              "            style=\"display:none;\">\n",
              "\n",
              "<svg xmlns=\"http://www.w3.org/2000/svg\" height=\"24px\"viewBox=\"0 0 24 24\"\n",
              "     width=\"24px\">\n",
              "    <g>\n",
              "        <path d=\"M19 3H5c-1.1 0-2 .9-2 2v14c0 1.1.9 2 2 2h14c1.1 0 2-.9 2-2V5c0-1.1-.9-2-2-2zM9 17H7v-7h2v7zm4 0h-2V7h2v10zm4 0h-2v-4h2v4z\"/>\n",
              "    </g>\n",
              "</svg>\n",
              "  </button>\n",
              "\n",
              "<style>\n",
              "  .colab-df-quickchart {\n",
              "      --bg-color: #E8F0FE;\n",
              "      --fill-color: #1967D2;\n",
              "      --hover-bg-color: #E2EBFA;\n",
              "      --hover-fill-color: #174EA6;\n",
              "      --disabled-fill-color: #AAA;\n",
              "      --disabled-bg-color: #DDD;\n",
              "  }\n",
              "\n",
              "  [theme=dark] .colab-df-quickchart {\n",
              "      --bg-color: #3B4455;\n",
              "      --fill-color: #D2E3FC;\n",
              "      --hover-bg-color: #434B5C;\n",
              "      --hover-fill-color: #FFFFFF;\n",
              "      --disabled-bg-color: #3B4455;\n",
              "      --disabled-fill-color: #666;\n",
              "  }\n",
              "\n",
              "  .colab-df-quickchart {\n",
              "    background-color: var(--bg-color);\n",
              "    border: none;\n",
              "    border-radius: 50%;\n",
              "    cursor: pointer;\n",
              "    display: none;\n",
              "    fill: var(--fill-color);\n",
              "    height: 32px;\n",
              "    padding: 0;\n",
              "    width: 32px;\n",
              "  }\n",
              "\n",
              "  .colab-df-quickchart:hover {\n",
              "    background-color: var(--hover-bg-color);\n",
              "    box-shadow: 0 1px 2px rgba(60, 64, 67, 0.3), 0 1px 3px 1px rgba(60, 64, 67, 0.15);\n",
              "    fill: var(--button-hover-fill-color);\n",
              "  }\n",
              "\n",
              "  .colab-df-quickchart-complete:disabled,\n",
              "  .colab-df-quickchart-complete:disabled:hover {\n",
              "    background-color: var(--disabled-bg-color);\n",
              "    fill: var(--disabled-fill-color);\n",
              "    box-shadow: none;\n",
              "  }\n",
              "\n",
              "  .colab-df-spinner {\n",
              "    border: 2px solid var(--fill-color);\n",
              "    border-color: transparent;\n",
              "    border-bottom-color: var(--fill-color);\n",
              "    animation:\n",
              "      spin 1s steps(1) infinite;\n",
              "  }\n",
              "\n",
              "  @keyframes spin {\n",
              "    0% {\n",
              "      border-color: transparent;\n",
              "      border-bottom-color: var(--fill-color);\n",
              "      border-left-color: var(--fill-color);\n",
              "    }\n",
              "    20% {\n",
              "      border-color: transparent;\n",
              "      border-left-color: var(--fill-color);\n",
              "      border-top-color: var(--fill-color);\n",
              "    }\n",
              "    30% {\n",
              "      border-color: transparent;\n",
              "      border-left-color: var(--fill-color);\n",
              "      border-top-color: var(--fill-color);\n",
              "      border-right-color: var(--fill-color);\n",
              "    }\n",
              "    40% {\n",
              "      border-color: transparent;\n",
              "      border-right-color: var(--fill-color);\n",
              "      border-top-color: var(--fill-color);\n",
              "    }\n",
              "    60% {\n",
              "      border-color: transparent;\n",
              "      border-right-color: var(--fill-color);\n",
              "    }\n",
              "    80% {\n",
              "      border-color: transparent;\n",
              "      border-right-color: var(--fill-color);\n",
              "      border-bottom-color: var(--fill-color);\n",
              "    }\n",
              "    90% {\n",
              "      border-color: transparent;\n",
              "      border-bottom-color: var(--fill-color);\n",
              "    }\n",
              "  }\n",
              "</style>\n",
              "\n",
              "  <script>\n",
              "    async function quickchart(key) {\n",
              "      const quickchartButtonEl =\n",
              "        document.querySelector('#' + key + ' button');\n",
              "      quickchartButtonEl.disabled = true;  // To prevent multiple clicks.\n",
              "      quickchartButtonEl.classList.add('colab-df-spinner');\n",
              "      try {\n",
              "        const charts = await google.colab.kernel.invokeFunction(\n",
              "            'suggestCharts', [key], {});\n",
              "      } catch (error) {\n",
              "        console.error('Error during call to suggestCharts:', error);\n",
              "      }\n",
              "      quickchartButtonEl.classList.remove('colab-df-spinner');\n",
              "      quickchartButtonEl.classList.add('colab-df-quickchart-complete');\n",
              "    }\n",
              "    (() => {\n",
              "      let quickchartButtonEl =\n",
              "        document.querySelector('#df-edeab7cc-6324-4274-a2af-c32017fa87e4 button');\n",
              "      quickchartButtonEl.style.display =\n",
              "        google.colab.kernel.accessAllowed ? 'block' : 'none';\n",
              "    })();\n",
              "  </script>\n",
              "</div>\n",
              "\n",
              "    </div>\n",
              "  </div>\n"
            ],
            "application/vnd.google.colaboratory.intrinsic+json": {
              "type": "dataframe",
              "variable_name": "df",
              "summary": "{\n  \"name\": \"df\",\n  \"rows\": 16407,\n  \"fields\": [\n    {\n      \"column\": \"qtype\",\n      \"properties\": {\n        \"dtype\": \"category\",\n        \"num_unique_values\": 16,\n        \"samples\": [\n          \"susceptibility\",\n          \"symptoms\",\n          \"information\"\n        ],\n        \"semantic_type\": \"\",\n        \"description\": \"\"\n      }\n    },\n    {\n      \"column\": \"Question\",\n      \"properties\": {\n        \"dtype\": \"string\",\n        \"num_unique_values\": 14979,\n        \"samples\": [\n          \"What are the symptoms of Danon disease ?\",\n          \"What is (are) Dowling-Degos disease ?\",\n          \"What are the genetic changes related to Pearson marrow-pancreas syndrome ?\"\n        ],\n        \"semantic_type\": \"\",\n        \"description\": \"\"\n      }\n    },\n    {\n      \"column\": \"Answer\",\n      \"properties\": {\n        \"dtype\": \"string\",\n        \"num_unique_values\": 15817,\n        \"samples\": [\n          \"These resources address the diagnosis or management of glycogen storage disease type III:  - Gene Review: Gene Review: Glycogen Storage Disease Type III  - Genetic Testing Registry: Glycogen storage disease type III   These resources from MedlinePlus offer information about the diagnosis and management of various health conditions:  - Diagnostic Tests  - Drug Therapy  - Surgery and Rehabilitation  - Genetic Counseling   - Palliative Care\",\n          \"Diagnostic Challenges\\n  \\nFor doctors, diagnosing chronic fatigue syndrome (CFS) can be complicated by a number of factors:\\n  \\n   - There's no lab test or biomarker for CFS.\\n   - Fatigue and other symptoms of CFS are common to many illnesses.\\n   - For some CFS patients, it may not be obvious to doctors that they are ill.\\n   - The illness has a pattern of remission and relapse.\\n   - Symptoms vary from person to person in type, number, and severity.\\n  \\n  \\nThese factors have contributed to a low diagnosis rate. Of the one to four million Americans who have CFS, less than 20% have been diagnosed.\\n  Exams and Screening Tests for CFS\\n  \\nBecause there is no blood test, brain scan, or other lab test to diagnose CFS, the doctor should first rule out other possible causes.\\n  \\nIf a patient has had 6 or more consecutive months of severe fatigue that is reported to be unrelieved by sufficient bed rest and that is accompanied by nonspecific symptoms, including flu-like symptoms, generalized pain, and memory problems, the doctor should consider the possibility that the patient may have CFS. Further exams and tests are needed before a diagnosis can be made:\\n  \\n   - A detailed medical history will be needed and should include a review of medications that could be causing the fatigue and symptoms\\n   - A thorough physical and mental status examination will also be needed\\n   - A battery of laboratory screening tests will be needed to help identify or rule out other possible causes of the symptoms that could be treated\\n   - The doctor may also order additional tests to follow up on results of the initial screening tests\\n  \\n  \\nA CFS diagnosis requires that the patient has been fatigued for 6 months or more and has 4 of the 8 symptoms for CFS for 6 months or more. If, however, the patient has been fatigued for 6 months or more but does not have four of the eight symptoms, the diagnosis may be idiopathic fatigue.\\n  \\nThe complete process for diagnosing CFS can be found here.\\n  \\nAdditional information for healthcare professionals on use of tests can be found here.\",\n          \"Eating, diet, and nutrition have not been shown to play a role in causing or preventing simple kidney cysts.\"\n        ],\n        \"semantic_type\": \"\",\n        \"description\": \"\"\n      }\n    }\n  ]\n}"
            }
          },
          "metadata": {},
          "execution_count": 2
        }
      ]
    },
    {
      "cell_type": "code",
      "source": [
        "len(df)\n",
        "df.info()"
      ],
      "metadata": {
        "colab": {
          "base_uri": "https://localhost:8080/"
        },
        "id": "cDbtOCaFnC6K",
        "outputId": "cfbc6c2c-2e57-439d-9d09-b5f038f84106"
      },
      "execution_count": null,
      "outputs": [
        {
          "output_type": "stream",
          "name": "stdout",
          "text": [
            "<class 'pandas.core.frame.DataFrame'>\n",
            "RangeIndex: 16407 entries, 0 to 16406\n",
            "Data columns (total 3 columns):\n",
            " #   Column    Non-Null Count  Dtype \n",
            "---  ------    --------------  ----- \n",
            " 0   qtype     16407 non-null  object\n",
            " 1   Question  16407 non-null  object\n",
            " 2   Answer    16407 non-null  object\n",
            "dtypes: object(3)\n",
            "memory usage: 384.7+ KB\n"
          ]
        }
      ]
    },
    {
      "cell_type": "markdown",
      "source": [
        "\n",
        "# 3. Feature Extraction (30 pts)\n",
        "\n",
        "Implement feature extraction tools and methods (term frequency, word embeddings etc)\n",
        "\n",
        "From Question field, derive a new question_cleansed field that:\n",
        "- removes stop words and punctuation\n",
        "- all lower case\n",
        "\n",
        "From Answer field, derive a new answer_cleansed field that:\n",
        "- shortens the answer to 1 sentence for readability in a chat format.\n"
      ],
      "metadata": {
        "id": "_xbTp6p_ZPhx"
      }
    },
    {
      "cell_type": "code",
      "source": [
        "# remove punctuation and stop words from question and make lower case\n",
        "# shorten answer to one sentence\n",
        "\n",
        "import nltk\n",
        "import string\n",
        "from nltk.corpus import stopwords\n",
        "\n",
        "nltk.download('stopwords')\n",
        "stop_words = set(stopwords.words('english'))\n",
        "\n",
        "# lower case and remove punctuation\n",
        "df[\"question_cleansed\"] = df[\"Question\"].str.lower().replace(r'[^\\w\\s]', '', regex=True)\n",
        "\n",
        "# remove stop words\n",
        "df[\"question_cleansed\"] = df[\"question_cleansed\"].apply(lambda x: ' '.join([word for word in x.split() if word not in (stop_words)]))\n",
        "\n",
        "# shorten answer to first sentence\n",
        "df[\"answer_cleansed\"] = df[\"Answer\"].apply(lambda x: x.split(\".\")[0]+'.' )\n",
        "\n",
        "df.head()"
      ],
      "metadata": {
        "id": "ffKORa0_Zi5b",
        "colab": {
          "base_uri": "https://localhost:8080/",
          "height": 433
        },
        "outputId": "ee56337a-98a0-4164-8bc6-ed16c917ca05"
      },
      "execution_count": null,
      "outputs": [
        {
          "output_type": "stream",
          "name": "stderr",
          "text": [
            "[nltk_data] Downloading package stopwords to /root/nltk_data...\n",
            "[nltk_data]   Unzipping corpora/stopwords.zip.\n"
          ]
        },
        {
          "output_type": "execute_result",
          "data": {
            "text/plain": [
              "             qtype                                           Question  \\\n",
              "0   susceptibility  Who is at risk for Lymphocytic Choriomeningiti...   \n",
              "1         symptoms  What are the symptoms of Lymphocytic Choriomen...   \n",
              "2   susceptibility  Who is at risk for Lymphocytic Choriomeningiti...   \n",
              "3  exams and tests  How to diagnose Lymphocytic Choriomeningitis (...   \n",
              "4        treatment  What are the treatments for Lymphocytic Chorio...   \n",
              "\n",
              "                                              Answer  \\\n",
              "0  LCMV infections can occur after exposure to fr...   \n",
              "1  LCMV is most commonly recognized as causing ne...   \n",
              "2  Individuals of all ages who come into contact ...   \n",
              "3  During the first phase of the disease, the mos...   \n",
              "4  Aseptic meningitis, encephalitis, or meningoen...   \n",
              "\n",
              "                             question_cleansed  \\\n",
              "0        risk lymphocytic choriomeningitis lcm   \n",
              "1    symptoms lymphocytic choriomeningitis lcm   \n",
              "2        risk lymphocytic choriomeningitis lcm   \n",
              "3    diagnose lymphocytic choriomeningitis lcm   \n",
              "4  treatments lymphocytic choriomeningitis lcm   \n",
              "\n",
              "                                     answer_cleansed  \n",
              "0  LCMV infections can occur after exposure to fr...  \n",
              "1  LCMV is most commonly recognized as causing ne...  \n",
              "2  Individuals of all ages who come into contact ...  \n",
              "3  During the first phase of the disease, the mos...  \n",
              "4  Aseptic meningitis, encephalitis, or meningoen...  "
            ],
            "text/html": [
              "\n",
              "  <div id=\"df-244a4ec4-247c-49e8-b973-0270fd53c2bc\" class=\"colab-df-container\">\n",
              "    <div>\n",
              "<style scoped>\n",
              "    .dataframe tbody tr th:only-of-type {\n",
              "        vertical-align: middle;\n",
              "    }\n",
              "\n",
              "    .dataframe tbody tr th {\n",
              "        vertical-align: top;\n",
              "    }\n",
              "\n",
              "    .dataframe thead th {\n",
              "        text-align: right;\n",
              "    }\n",
              "</style>\n",
              "<table border=\"1\" class=\"dataframe\">\n",
              "  <thead>\n",
              "    <tr style=\"text-align: right;\">\n",
              "      <th></th>\n",
              "      <th>qtype</th>\n",
              "      <th>Question</th>\n",
              "      <th>Answer</th>\n",
              "      <th>question_cleansed</th>\n",
              "      <th>answer_cleansed</th>\n",
              "    </tr>\n",
              "  </thead>\n",
              "  <tbody>\n",
              "    <tr>\n",
              "      <th>0</th>\n",
              "      <td>susceptibility</td>\n",
              "      <td>Who is at risk for Lymphocytic Choriomeningiti...</td>\n",
              "      <td>LCMV infections can occur after exposure to fr...</td>\n",
              "      <td>risk lymphocytic choriomeningitis lcm</td>\n",
              "      <td>LCMV infections can occur after exposure to fr...</td>\n",
              "    </tr>\n",
              "    <tr>\n",
              "      <th>1</th>\n",
              "      <td>symptoms</td>\n",
              "      <td>What are the symptoms of Lymphocytic Choriomen...</td>\n",
              "      <td>LCMV is most commonly recognized as causing ne...</td>\n",
              "      <td>symptoms lymphocytic choriomeningitis lcm</td>\n",
              "      <td>LCMV is most commonly recognized as causing ne...</td>\n",
              "    </tr>\n",
              "    <tr>\n",
              "      <th>2</th>\n",
              "      <td>susceptibility</td>\n",
              "      <td>Who is at risk for Lymphocytic Choriomeningiti...</td>\n",
              "      <td>Individuals of all ages who come into contact ...</td>\n",
              "      <td>risk lymphocytic choriomeningitis lcm</td>\n",
              "      <td>Individuals of all ages who come into contact ...</td>\n",
              "    </tr>\n",
              "    <tr>\n",
              "      <th>3</th>\n",
              "      <td>exams and tests</td>\n",
              "      <td>How to diagnose Lymphocytic Choriomeningitis (...</td>\n",
              "      <td>During the first phase of the disease, the mos...</td>\n",
              "      <td>diagnose lymphocytic choriomeningitis lcm</td>\n",
              "      <td>During the first phase of the disease, the mos...</td>\n",
              "    </tr>\n",
              "    <tr>\n",
              "      <th>4</th>\n",
              "      <td>treatment</td>\n",
              "      <td>What are the treatments for Lymphocytic Chorio...</td>\n",
              "      <td>Aseptic meningitis, encephalitis, or meningoen...</td>\n",
              "      <td>treatments lymphocytic choriomeningitis lcm</td>\n",
              "      <td>Aseptic meningitis, encephalitis, or meningoen...</td>\n",
              "    </tr>\n",
              "  </tbody>\n",
              "</table>\n",
              "</div>\n",
              "    <div class=\"colab-df-buttons\">\n",
              "\n",
              "  <div class=\"colab-df-container\">\n",
              "    <button class=\"colab-df-convert\" onclick=\"convertToInteractive('df-244a4ec4-247c-49e8-b973-0270fd53c2bc')\"\n",
              "            title=\"Convert this dataframe to an interactive table.\"\n",
              "            style=\"display:none;\">\n",
              "\n",
              "  <svg xmlns=\"http://www.w3.org/2000/svg\" height=\"24px\" viewBox=\"0 -960 960 960\">\n",
              "    <path d=\"M120-120v-720h720v720H120Zm60-500h600v-160H180v160Zm220 220h160v-160H400v160Zm0 220h160v-160H400v160ZM180-400h160v-160H180v160Zm440 0h160v-160H620v160ZM180-180h160v-160H180v160Zm440 0h160v-160H620v160Z\"/>\n",
              "  </svg>\n",
              "    </button>\n",
              "\n",
              "  <style>\n",
              "    .colab-df-container {\n",
              "      display:flex;\n",
              "      gap: 12px;\n",
              "    }\n",
              "\n",
              "    .colab-df-convert {\n",
              "      background-color: #E8F0FE;\n",
              "      border: none;\n",
              "      border-radius: 50%;\n",
              "      cursor: pointer;\n",
              "      display: none;\n",
              "      fill: #1967D2;\n",
              "      height: 32px;\n",
              "      padding: 0 0 0 0;\n",
              "      width: 32px;\n",
              "    }\n",
              "\n",
              "    .colab-df-convert:hover {\n",
              "      background-color: #E2EBFA;\n",
              "      box-shadow: 0px 1px 2px rgba(60, 64, 67, 0.3), 0px 1px 3px 1px rgba(60, 64, 67, 0.15);\n",
              "      fill: #174EA6;\n",
              "    }\n",
              "\n",
              "    .colab-df-buttons div {\n",
              "      margin-bottom: 4px;\n",
              "    }\n",
              "\n",
              "    [theme=dark] .colab-df-convert {\n",
              "      background-color: #3B4455;\n",
              "      fill: #D2E3FC;\n",
              "    }\n",
              "\n",
              "    [theme=dark] .colab-df-convert:hover {\n",
              "      background-color: #434B5C;\n",
              "      box-shadow: 0px 1px 3px 1px rgba(0, 0, 0, 0.15);\n",
              "      filter: drop-shadow(0px 1px 2px rgba(0, 0, 0, 0.3));\n",
              "      fill: #FFFFFF;\n",
              "    }\n",
              "  </style>\n",
              "\n",
              "    <script>\n",
              "      const buttonEl =\n",
              "        document.querySelector('#df-244a4ec4-247c-49e8-b973-0270fd53c2bc button.colab-df-convert');\n",
              "      buttonEl.style.display =\n",
              "        google.colab.kernel.accessAllowed ? 'block' : 'none';\n",
              "\n",
              "      async function convertToInteractive(key) {\n",
              "        const element = document.querySelector('#df-244a4ec4-247c-49e8-b973-0270fd53c2bc');\n",
              "        const dataTable =\n",
              "          await google.colab.kernel.invokeFunction('convertToInteractive',\n",
              "                                                    [key], {});\n",
              "        if (!dataTable) return;\n",
              "\n",
              "        const docLinkHtml = 'Like what you see? Visit the ' +\n",
              "          '<a target=\"_blank\" href=https://colab.research.google.com/notebooks/data_table.ipynb>data table notebook</a>'\n",
              "          + ' to learn more about interactive tables.';\n",
              "        element.innerHTML = '';\n",
              "        dataTable['output_type'] = 'display_data';\n",
              "        await google.colab.output.renderOutput(dataTable, element);\n",
              "        const docLink = document.createElement('div');\n",
              "        docLink.innerHTML = docLinkHtml;\n",
              "        element.appendChild(docLink);\n",
              "      }\n",
              "    </script>\n",
              "  </div>\n",
              "\n",
              "\n",
              "<div id=\"df-5df3cfe0-b3b1-4a08-94e8-50a9c01878de\">\n",
              "  <button class=\"colab-df-quickchart\" onclick=\"quickchart('df-5df3cfe0-b3b1-4a08-94e8-50a9c01878de')\"\n",
              "            title=\"Suggest charts\"\n",
              "            style=\"display:none;\">\n",
              "\n",
              "<svg xmlns=\"http://www.w3.org/2000/svg\" height=\"24px\"viewBox=\"0 0 24 24\"\n",
              "     width=\"24px\">\n",
              "    <g>\n",
              "        <path d=\"M19 3H5c-1.1 0-2 .9-2 2v14c0 1.1.9 2 2 2h14c1.1 0 2-.9 2-2V5c0-1.1-.9-2-2-2zM9 17H7v-7h2v7zm4 0h-2V7h2v10zm4 0h-2v-4h2v4z\"/>\n",
              "    </g>\n",
              "</svg>\n",
              "  </button>\n",
              "\n",
              "<style>\n",
              "  .colab-df-quickchart {\n",
              "      --bg-color: #E8F0FE;\n",
              "      --fill-color: #1967D2;\n",
              "      --hover-bg-color: #E2EBFA;\n",
              "      --hover-fill-color: #174EA6;\n",
              "      --disabled-fill-color: #AAA;\n",
              "      --disabled-bg-color: #DDD;\n",
              "  }\n",
              "\n",
              "  [theme=dark] .colab-df-quickchart {\n",
              "      --bg-color: #3B4455;\n",
              "      --fill-color: #D2E3FC;\n",
              "      --hover-bg-color: #434B5C;\n",
              "      --hover-fill-color: #FFFFFF;\n",
              "      --disabled-bg-color: #3B4455;\n",
              "      --disabled-fill-color: #666;\n",
              "  }\n",
              "\n",
              "  .colab-df-quickchart {\n",
              "    background-color: var(--bg-color);\n",
              "    border: none;\n",
              "    border-radius: 50%;\n",
              "    cursor: pointer;\n",
              "    display: none;\n",
              "    fill: var(--fill-color);\n",
              "    height: 32px;\n",
              "    padding: 0;\n",
              "    width: 32px;\n",
              "  }\n",
              "\n",
              "  .colab-df-quickchart:hover {\n",
              "    background-color: var(--hover-bg-color);\n",
              "    box-shadow: 0 1px 2px rgba(60, 64, 67, 0.3), 0 1px 3px 1px rgba(60, 64, 67, 0.15);\n",
              "    fill: var(--button-hover-fill-color);\n",
              "  }\n",
              "\n",
              "  .colab-df-quickchart-complete:disabled,\n",
              "  .colab-df-quickchart-complete:disabled:hover {\n",
              "    background-color: var(--disabled-bg-color);\n",
              "    fill: var(--disabled-fill-color);\n",
              "    box-shadow: none;\n",
              "  }\n",
              "\n",
              "  .colab-df-spinner {\n",
              "    border: 2px solid var(--fill-color);\n",
              "    border-color: transparent;\n",
              "    border-bottom-color: var(--fill-color);\n",
              "    animation:\n",
              "      spin 1s steps(1) infinite;\n",
              "  }\n",
              "\n",
              "  @keyframes spin {\n",
              "    0% {\n",
              "      border-color: transparent;\n",
              "      border-bottom-color: var(--fill-color);\n",
              "      border-left-color: var(--fill-color);\n",
              "    }\n",
              "    20% {\n",
              "      border-color: transparent;\n",
              "      border-left-color: var(--fill-color);\n",
              "      border-top-color: var(--fill-color);\n",
              "    }\n",
              "    30% {\n",
              "      border-color: transparent;\n",
              "      border-left-color: var(--fill-color);\n",
              "      border-top-color: var(--fill-color);\n",
              "      border-right-color: var(--fill-color);\n",
              "    }\n",
              "    40% {\n",
              "      border-color: transparent;\n",
              "      border-right-color: var(--fill-color);\n",
              "      border-top-color: var(--fill-color);\n",
              "    }\n",
              "    60% {\n",
              "      border-color: transparent;\n",
              "      border-right-color: var(--fill-color);\n",
              "    }\n",
              "    80% {\n",
              "      border-color: transparent;\n",
              "      border-right-color: var(--fill-color);\n",
              "      border-bottom-color: var(--fill-color);\n",
              "    }\n",
              "    90% {\n",
              "      border-color: transparent;\n",
              "      border-bottom-color: var(--fill-color);\n",
              "    }\n",
              "  }\n",
              "</style>\n",
              "\n",
              "  <script>\n",
              "    async function quickchart(key) {\n",
              "      const quickchartButtonEl =\n",
              "        document.querySelector('#' + key + ' button');\n",
              "      quickchartButtonEl.disabled = true;  // To prevent multiple clicks.\n",
              "      quickchartButtonEl.classList.add('colab-df-spinner');\n",
              "      try {\n",
              "        const charts = await google.colab.kernel.invokeFunction(\n",
              "            'suggestCharts', [key], {});\n",
              "      } catch (error) {\n",
              "        console.error('Error during call to suggestCharts:', error);\n",
              "      }\n",
              "      quickchartButtonEl.classList.remove('colab-df-spinner');\n",
              "      quickchartButtonEl.classList.add('colab-df-quickchart-complete');\n",
              "    }\n",
              "    (() => {\n",
              "      let quickchartButtonEl =\n",
              "        document.querySelector('#df-5df3cfe0-b3b1-4a08-94e8-50a9c01878de button');\n",
              "      quickchartButtonEl.style.display =\n",
              "        google.colab.kernel.accessAllowed ? 'block' : 'none';\n",
              "    })();\n",
              "  </script>\n",
              "</div>\n",
              "\n",
              "    </div>\n",
              "  </div>\n"
            ],
            "application/vnd.google.colaboratory.intrinsic+json": {
              "type": "dataframe",
              "variable_name": "df",
              "summary": "{\n  \"name\": \"df\",\n  \"rows\": 16407,\n  \"fields\": [\n    {\n      \"column\": \"qtype\",\n      \"properties\": {\n        \"dtype\": \"category\",\n        \"num_unique_values\": 16,\n        \"samples\": [\n          \"susceptibility\",\n          \"symptoms\",\n          \"information\"\n        ],\n        \"semantic_type\": \"\",\n        \"description\": \"\"\n      }\n    },\n    {\n      \"column\": \"Question\",\n      \"properties\": {\n        \"dtype\": \"string\",\n        \"num_unique_values\": 14979,\n        \"samples\": [\n          \"What are the symptoms of Danon disease ?\",\n          \"What is (are) Dowling-Degos disease ?\",\n          \"What are the genetic changes related to Pearson marrow-pancreas syndrome ?\"\n        ],\n        \"semantic_type\": \"\",\n        \"description\": \"\"\n      }\n    },\n    {\n      \"column\": \"Answer\",\n      \"properties\": {\n        \"dtype\": \"string\",\n        \"num_unique_values\": 15817,\n        \"samples\": [\n          \"These resources address the diagnosis or management of glycogen storage disease type III:  - Gene Review: Gene Review: Glycogen Storage Disease Type III  - Genetic Testing Registry: Glycogen storage disease type III   These resources from MedlinePlus offer information about the diagnosis and management of various health conditions:  - Diagnostic Tests  - Drug Therapy  - Surgery and Rehabilitation  - Genetic Counseling   - Palliative Care\",\n          \"Diagnostic Challenges\\n  \\nFor doctors, diagnosing chronic fatigue syndrome (CFS) can be complicated by a number of factors:\\n  \\n   - There's no lab test or biomarker for CFS.\\n   - Fatigue and other symptoms of CFS are common to many illnesses.\\n   - For some CFS patients, it may not be obvious to doctors that they are ill.\\n   - The illness has a pattern of remission and relapse.\\n   - Symptoms vary from person to person in type, number, and severity.\\n  \\n  \\nThese factors have contributed to a low diagnosis rate. Of the one to four million Americans who have CFS, less than 20% have been diagnosed.\\n  Exams and Screening Tests for CFS\\n  \\nBecause there is no blood test, brain scan, or other lab test to diagnose CFS, the doctor should first rule out other possible causes.\\n  \\nIf a patient has had 6 or more consecutive months of severe fatigue that is reported to be unrelieved by sufficient bed rest and that is accompanied by nonspecific symptoms, including flu-like symptoms, generalized pain, and memory problems, the doctor should consider the possibility that the patient may have CFS. Further exams and tests are needed before a diagnosis can be made:\\n  \\n   - A detailed medical history will be needed and should include a review of medications that could be causing the fatigue and symptoms\\n   - A thorough physical and mental status examination will also be needed\\n   - A battery of laboratory screening tests will be needed to help identify or rule out other possible causes of the symptoms that could be treated\\n   - The doctor may also order additional tests to follow up on results of the initial screening tests\\n  \\n  \\nA CFS diagnosis requires that the patient has been fatigued for 6 months or more and has 4 of the 8 symptoms for CFS for 6 months or more. If, however, the patient has been fatigued for 6 months or more but does not have four of the eight symptoms, the diagnosis may be idiopathic fatigue.\\n  \\nThe complete process for diagnosing CFS can be found here.\\n  \\nAdditional information for healthcare professionals on use of tests can be found here.\",\n          \"Eating, diet, and nutrition have not been shown to play a role in causing or preventing simple kidney cysts.\"\n        ],\n        \"semantic_type\": \"\",\n        \"description\": \"\"\n      }\n    },\n    {\n      \"column\": \"question_cleansed\",\n      \"properties\": {\n        \"dtype\": \"string\",\n        \"num_unique_values\": 14202,\n        \"samples\": [\n          \"genetic changes related hereditary hyperekplexia\",\n          \"symptoms rhabdoid tumor\",\n          \"microcephalic osteodysplastic primordial dwarfism type ii inherited\"\n        ],\n        \"semantic_type\": \"\",\n        \"description\": \"\"\n      }\n    },\n    {\n      \"column\": \"answer_cleansed\",\n      \"properties\": {\n        \"dtype\": \"string\",\n        \"num_unique_values\": 15255,\n        \"samples\": [\n          \"Restless legs syndrome (RLS) has no cure.\",\n          \"What are the signs and symptoms of Dent disease 1? The Human Phenotype Ontology provides the following list of signs and symptoms for Dent disease 1.\",\n          \"What are the signs and symptoms of Bartter syndrome? The signs and symptoms associated with Bartter syndrome can vary depending on the form of Bartter syndrome an affected individual has.\"\n        ],\n        \"semantic_type\": \"\",\n        \"description\": \"\"\n      }\n    }\n  ]\n}"
            }
          },
          "metadata": {},
          "execution_count": 4
        }
      ]
    },
    {
      "cell_type": "code",
      "source": [
        "# review some questions to test with in chat below\n",
        "for index, row in df.iterrows():\n",
        "  if index < 5:\n",
        "    print(\"Q: \" + row[\"Question\"]  + \" (\" + row[\"question_cleansed\"] + \")\")\n",
        "    print(\"A: \" + row[\"answer_cleansed\"] )"
      ],
      "metadata": {
        "colab": {
          "base_uri": "https://localhost:8080/"
        },
        "id": "qmmQirNKqxJs",
        "outputId": "ffbe647d-b682-40ad-83aa-0a8604258dc6"
      },
      "execution_count": null,
      "outputs": [
        {
          "output_type": "stream",
          "name": "stdout",
          "text": [
            "Q: Who is at risk for Lymphocytic Choriomeningitis (LCM)? ? (risk lymphocytic choriomeningitis lcm)\n",
            "A: LCMV infections can occur after exposure to fresh urine, droppings, saliva, or nesting materials from infected rodents.\n",
            "Q: What are the symptoms of Lymphocytic Choriomeningitis (LCM) ? (symptoms lymphocytic choriomeningitis lcm)\n",
            "A: LCMV is most commonly recognized as causing neurological disease, as its name implies, though infection without symptoms or mild febrile illnesses are more common clinical manifestations.\n",
            "Q: Who is at risk for Lymphocytic Choriomeningitis (LCM)? ? (risk lymphocytic choriomeningitis lcm)\n",
            "A: Individuals of all ages who come into contact with urine, feces, saliva, or blood of wild mice are potentially at risk for infection.\n",
            "Q: How to diagnose Lymphocytic Choriomeningitis (LCM) ? (diagnose lymphocytic choriomeningitis lcm)\n",
            "A: During the first phase of the disease, the most common laboratory abnormalities are a low white blood cell count (leukopenia) and a low platelet count (thrombocytopenia).\n",
            "Q: What are the treatments for Lymphocytic Choriomeningitis (LCM) ? (treatments lymphocytic choriomeningitis lcm)\n",
            "A: Aseptic meningitis, encephalitis, or meningoencephalitis requires hospitalization and supportive treatment based on severity.\n"
          ]
        }
      ]
    },
    {
      "cell_type": "code",
      "source": [
        "# generate conversations.yml from our data frame\n",
        "# using shorten responses\n",
        "# todo: consolidate questions for improved performance (time to train is too long - 20 minutes)\n",
        "\n",
        "yaml_lines = []\n",
        "yaml_lines.append(\"categories:\")\n",
        "yaml_lines.append(\"- medical\")\n",
        "yaml_lines.append(\"conversations:\")\n",
        "\n",
        "for _, row in df.iterrows():\n",
        "    yaml_lines.append(\"- - \\\"\" + str(row[\"question_cleansed\"]).replace('-', '').replace('\"','') + \"\\\"\")\n",
        "    yaml_lines.append(\"  - \\\"\" + str(row[\"answer_cleansed\"]).replace('-', '').replace('\"','') + \"\\\"\")\n",
        "\n",
        "\n",
        "yaml_str = \"\\n\".join(yaml_lines)\n",
        "print(yaml_str[0:10])\n",
        "with open('conversations.yml', 'a') as the_file:\n",
        "    the_file.write(yaml_str)\n",
        "\n",
        "\"\"\"\n",
        "sample format:\n",
        "\n",
        "categories:\n",
        "- medical\n",
        "conversations:\n",
        "- - what disease does a carcinogen cause\n",
        "  - cancer.\n",
        "- - what is ultrasound\n",
        "  - ultrasonic waves, used in medical diagnosis and therapy, in surgery, etc.\n",
        "- - what is bioinformatics\n",
        "  - a fancy name for applied computer science in biology.\n",
        "- - what is cytology\n",
        "  - the study of cells.\n",
        "- - what is bacteriology\n",
        "  - this is the scientific study of bacteria and diseases caused by them.\n",
        "- - what is botulism?\n",
        "  - Botulism is a rare but serious paralytic illness caused by a nerve toxin that is produced by the bacterium Clostridium botulinum and sometimes by strains of Clostridium butyricum and Clostridium baratii. There are five main kinds of botulism. Foodborne botulism is caused by eating foods that contain the botulinum toxin. Wound botulism is caused by toxin produced from a wound infected with Clostridium botulinum. Infant botulism is caused by consuming the spores of the botulinum bacteria, which then grow in the intestines and release toxin. Adult intestinal toxemia (adult intestinal colonization) botulism is a very rare kind of botulism that occurs among adults by the same route as infant botulism. Lastly, iatrogenic botulism can occur from accidental overdose of botulinum toxin. All forms of botulism can be fatal and are considered medical emergencies. Foodborne botulism is a public health emergency because many people can be poisoned by eating a contaminated food.\n",
        "- - what are marine toxins?\n",
        "  - Marine toxins are naturally occurring chemicals that can contaminate certain seafood. The seafood contaminated with these chemicals frequently looks, smells, and tastes normal. When humans eat such seafood, disease can result.\n",
        "\n",
        "\n",
        "\n",
        "\"\"\"\n",
        "\n"
      ],
      "metadata": {
        "colab": {
          "base_uri": "https://localhost:8080/",
          "height": 216
        },
        "id": "DZ15_gh_rZww",
        "outputId": "169d3b6c-8824-478a-a480-935b5575292c"
      },
      "execution_count": null,
      "outputs": [
        {
          "output_type": "stream",
          "name": "stdout",
          "text": [
            "categories\n"
          ]
        },
        {
          "output_type": "execute_result",
          "data": {
            "text/plain": [
              "'\\nsample format:\\n\\ncategories:\\n- medical\\nconversations:\\n- - what disease does a carcinogen cause\\n  - cancer.\\n- - what is ultrasound\\n  - ultrasonic waves, used in medical diagnosis and therapy, in surgery, etc.\\n- - what is bioinformatics\\n  - a fancy name for applied computer science in biology.\\n- - what is cytology\\n  - the study of cells.\\n- - what is bacteriology\\n  - this is the scientific study of bacteria and diseases caused by them.\\n- - what is botulism?\\n  - Botulism is a rare but serious paralytic illness caused by a nerve toxin that is produced by the bacterium Clostridium botulinum and sometimes by strains of Clostridium butyricum and Clostridium baratii. There are five main kinds of botulism. Foodborne botulism is caused by eating foods that contain the botulinum toxin. Wound botulism is caused by toxin produced from a wound infected with Clostridium botulinum. Infant botulism is caused by consuming the spores of the botulinum bacteria, which then grow in the intestines and release toxin. Adult intestinal toxemia (adult intestinal colonization) botulism is a very rare kind of botulism that occurs among adults by the same route as infant botulism. Lastly, iatrogenic botulism can occur from accidental overdose of botulinum toxin. All forms of botulism can be fatal and are considered medical emergencies. Foodborne botulism is a public health emergency because many people can be poisoned by eating a contaminated food.\\n- - what are marine toxins?\\n  - Marine toxins are naturally occurring chemicals that can contaminate certain seafood. The seafood contaminated with these chemicals frequently looks, smells, and tastes normal. When humans eat such seafood, disease can result.\\n\\n\\n\\n'"
            ],
            "application/vnd.google.colaboratory.intrinsic+json": {
              "type": "string"
            }
          },
          "metadata": {},
          "execution_count": 6
        }
      ]
    },
    {
      "cell_type": "code",
      "source": [
        "from chatterbot import ChatBot\n",
        "\n",
        "# setup and configure the bot\n",
        "# don't save conversations for privacy(due to HIPAA for sensitive health care data)\n",
        "bot = ChatBot('Doctor',   read_only=True)\n",
        "\n",
        "# Create object of ChatBot class with Storage Adapter\n",
        "bot = ChatBot(\n",
        "    'Doctor',\n",
        "    storage_adapter='chatterbot.storage.SQLStorageAdapter',\n",
        "    database_uri='sqlite:///database.sqlite3'\n",
        ")\n",
        "\n",
        "# Create object of ChatBot class with Best Match Adapter\n",
        "bot = ChatBot(\n",
        "    'Doctor',\n",
        "    logic_adapters=[\n",
        "        'chatterbot.logic.BestMatch'\n",
        "        ],\n",
        ")"
      ],
      "metadata": {
        "id": "OQoMYWoEZjwV"
      },
      "execution_count": null,
      "outputs": []
    },
    {
      "cell_type": "code",
      "source": [
        "from chatterbot.trainers import ChatterBotCorpusTrainer\n",
        "\n",
        "# train chatbot on our data using yml file generated above\n",
        "# this takes a few minutes\n",
        "\n",
        "trainer = ChatterBotCorpusTrainer(bot)\n",
        "\n",
        "trainer.train(\"/content/conversations.yml\")"
      ],
      "metadata": {
        "colab": {
          "base_uri": "https://localhost:8080/"
        },
        "id": "9jLIFFFI29Eu",
        "outputId": "374ab812-495a-4d16-f6e8-9f155f44ea7f"
      },
      "execution_count": null,
      "outputs": [
        {
          "output_type": "stream",
          "name": "stdout",
          "text": [
            "Training conversations.yml: [####################] 100%\n"
          ]
        }
      ]
    },
    {
      "cell_type": "code",
      "source": [
        "# set up sentiment analysis for\n",
        "# proper response to initial chat question of \"how do you feel?\"\n",
        "!pip install nltk\n",
        "\n",
        "import nltk\n",
        "nltk.download(\"punkt\")\n",
        "nltk.download(\"vader_lexicon\")\n",
        "from nltk.sentiment.vader import SentimentIntensityAnalyzer\n",
        "\n",
        "sid = SentimentIntensityAnalyzer()"
      ],
      "metadata": {
        "colab": {
          "base_uri": "https://localhost:8080/"
        },
        "id": "fpzaYz-kpoRa",
        "outputId": "730c7980-9dac-40ef-899e-91613afb7879"
      },
      "execution_count": null,
      "outputs": [
        {
          "output_type": "stream",
          "name": "stdout",
          "text": [
            "Requirement already satisfied: nltk in /usr/local/lib/python3.10/dist-packages (3.9.1)\n",
            "Requirement already satisfied: click in /usr/local/lib/python3.10/dist-packages (from nltk) (8.1.7)\n",
            "Requirement already satisfied: joblib in /usr/local/lib/python3.10/dist-packages (from nltk) (1.4.2)\n",
            "Requirement already satisfied: regex>=2021.8.3 in /usr/local/lib/python3.10/dist-packages (from nltk) (2024.9.11)\n",
            "Requirement already satisfied: tqdm in /usr/local/lib/python3.10/dist-packages (from nltk) (4.66.6)\n"
          ]
        },
        {
          "output_type": "stream",
          "name": "stderr",
          "text": [
            "[nltk_data] Downloading package punkt to /root/nltk_data...\n",
            "[nltk_data]   Unzipping tokenizers/punkt.zip.\n",
            "[nltk_data] Downloading package vader_lexicon to /root/nltk_data...\n"
          ]
        }
      ]
    },
    {
      "cell_type": "code",
      "source": [
        "# test sentiment analysis results\n",
        "print(sid.polarity_scores(\"I feel horrible.\"))\n",
        "\n",
        "print(sid.polarity_scores(\"I feel fine.\"))\n",
        "\n",
        "print(sid.polarity_scores(\"my spouse feels sick.\"))"
      ],
      "metadata": {
        "id": "GM0s2Iev8NFQ",
        "colab": {
          "base_uri": "https://localhost:8080/"
        },
        "outputId": "808f950c-9a82-4e96-b0e2-d3ab573b9f55"
      },
      "execution_count": null,
      "outputs": [
        {
          "output_type": "stream",
          "name": "stdout",
          "text": [
            "{'neg': 0.778, 'neu': 0.222, 'pos': 0.0, 'compound': -0.5423}\n",
            "{'neg': 0.0, 'neu': 0.357, 'pos': 0.643, 'compound': 0.2023}\n",
            "{'neg': 0.524, 'neu': 0.476, 'pos': 0.0, 'compound': -0.5106}\n"
          ]
        }
      ]
    },
    {
      "cell_type": "code",
      "source": [
        "\n",
        "print(sid.polarity_scores(\"I feel sick.\")['neg']>sid.polarity_scores(\"I feel sick.\")['pos'] )"
      ],
      "metadata": {
        "colab": {
          "base_uri": "https://localhost:8080/"
        },
        "id": "F8FBgymu4Mae",
        "outputId": "cf7d552f-5e5a-48f1-b187-cc55c3ca6f83"
      },
      "execution_count": null,
      "outputs": [
        {
          "output_type": "stream",
          "name": "stdout",
          "text": [
            "True\n"
          ]
        }
      ]
    },
    {
      "cell_type": "code",
      "source": [
        "#  TBD: will use if our app needs any similarity scores\n",
        "#similarity score of user entered question to data question cleansed\n",
        "\"\"\"\n",
        "!pip install spacy\n",
        "import spacy\n",
        "\n",
        "nlp = spacy.load(\"en_core_web_sm\")\n",
        "\n",
        "\n",
        "doc1=nlp(\"diabetes\")\n",
        "doc2=nlp(\"what is diabetes?\")\n",
        "t1=doc1[0]\n",
        "t2=doc2[2]\n",
        "print(f\"sim betw {t1} and {t2} = \", round(t1.similarity(t2),3))\n",
        "print(f\"sim betw {doc1} and {doc2} = \", round(doc1.similarity(doc2),3))\n",
        "\"\"\"\n"
      ],
      "metadata": {
        "colab": {
          "base_uri": "https://localhost:8080/"
        },
        "id": "_lcxj5WXz7sW",
        "outputId": "67f7f511-f958-4bc9-fe8b-5821b48dd4bf"
      },
      "execution_count": null,
      "outputs": [
        {
          "output_type": "stream",
          "name": "stdout",
          "text": [
            "thanks\n"
          ]
        }
      ]
    },
    {
      "cell_type": "code",
      "source": [
        "# Testing the bot with fixed inputs\n",
        "# Get a response to the input text for testing\n",
        "test_input =  'What is botulism?'\n",
        "response = bot.get_response(test_input)\n",
        "\n",
        "print(\"Input:\", test_input)\n",
        "print(\"Bot Response:\", response)\n",
        "\n",
        "test_input =   'What are marine toxins?'\n",
        "response = bot.get_response(test_input)\n",
        "\n",
        "print(\"Input:\", test_input)\n",
        "print(\"Bot Response:\", response)"
      ],
      "metadata": {
        "colab": {
          "base_uri": "https://localhost:8080/"
        },
        "id": "ZsNfjERNfPgU",
        "outputId": "88ead132-ccc1-48db-dc04-517c529640bc"
      },
      "execution_count": null,
      "outputs": [
        {
          "output_type": "stream",
          "name": "stdout",
          "text": [
            "Input: What is botulism?\n",
            "Bot Response: risk marburg hemorrhagic fever marburg hf\n",
            "Input: What are marine toxins?\n",
            "Bot Response: Marine toxins are naturally occurring chemicals that can contaminate certain seafood.\n"
          ]
        }
      ]
    },
    {
      "cell_type": "code",
      "source": [
        "# Get a response to the input text\n",
        "test_input =  'bacteriology'\n",
        "response = bot.get_response(test_input)\n",
        "\n",
        "print(\"Input:\", test_input)\n",
        "print(\"Bot Response:\", response)\n",
        "\n",
        "test_input =  'toxins'\n",
        "response = bot.get_response(test_input)\n",
        "\n",
        "print(\"Input:\", test_input)\n",
        "print(\"Bot Response:\", response)"
      ],
      "metadata": {
        "colab": {
          "base_uri": "https://localhost:8080/"
        },
        "id": "WtbBumDKwY3D",
        "outputId": "0fd97284-6850-4772-eb9e-6095e8b3f3e9"
      },
      "execution_count": null,
      "outputs": [
        {
          "output_type": "stream",
          "name": "stdout",
          "text": [
            "Input: bacteriology\n",
            "Bot Response: BuschkeOllendorff syndrome results from mutations in the LEMD3 gene.\n",
            "Input: toxins\n",
            "Bot Response: Marine toxins are naturally occurring chemicals that can contaminate certain seafood.\n"
          ]
        }
      ]
    },
    {
      "cell_type": "code",
      "source": [
        "test_input =  'how to prevent parasites - cysticercosis'\n",
        "response = bot.get_response(test_input)\n",
        "\n",
        "print(\"Input:\", test_input)\n",
        "print(\"Bot Response:\", response)\n",
        "\n",
        "test_input =  'risk lymphocytic choriomeningitis'\n",
        "response = bot.get_response(test_input)\n",
        "\n",
        "print(\"Input:\", test_input)\n",
        "print(\"Bot Response:\", response)\n",
        "\n",
        "\n"
      ],
      "metadata": {
        "colab": {
          "base_uri": "https://localhost:8080/"
        },
        "id": "qkYBfKfjwFDc",
        "outputId": "11e1e492-60d2-42ce-a831-6c1c18e91fa9"
      },
      "execution_count": null,
      "outputs": [
        {
          "output_type": "stream",
          "name": "stdout",
          "text": [
            "Input: how to prevent parasites - cysticercosis\n",
            "Bot Response: Cysticercosis is an infection caused by the larvae of the tapeworm, Taenia solium.\n",
            "Input: risk lymphocytic choriomeningitis\n",
            "Bot Response: LCMV infections can occur after exposure to fresh urine, droppings, saliva, or nesting materials from infected rodents.\n"
          ]
        }
      ]
    },
    {
      "cell_type": "markdown",
      "source": [
        "# 4. Main Functionality (30 pts)\n",
        "\n",
        "This is our main task of interacting with robo chat about  medical information.\n",
        "\n",
        "<ol>\n",
        "<li> Obtain medical nature acknowledgements from user.\n",
        "<li> For all subsequent steps, identify keywords for mental health issues and add to response.\n",
        "<li> Ask use how they feel for conversastional tone. Obtain adjective using NER and assess sentiment analysis for response.\n",
        "<li> Obtain question from user\n",
        "<li> Find similarity score of most similar question\n",
        "<li> Show answer\n",
        "<li> Ask for more information or new question\n",
        "<li> Repeat for all questions\n",
        "<li> Ask for any topic user would like summary about\n",
        "<li> Before exiting, remind them to defer to advice from health care provider and contact health care professional as needed.\n"
      ],
      "metadata": {
        "id": "vfMvgPmkZPsj"
      }
    },
    {
      "cell_type": "code",
      "source": [
        "# Get users name\n",
        "# Provide medical disclaimers\n",
        "# Ask how they feel\n",
        "# get one or more questions and provide response\n",
        "# when user enters bye or thanks, no more questions\n",
        "# provide boilerplate exit message with medical provider details\n",
        "\n",
        "import re\n",
        "\n",
        "name = input(\"What is your name? \")\n",
        "print(\"Welcome to the Dr. Bot Service! For medical emergencies, please dial 911.\")\n",
        "print(\"Please say Bye or Thanks before you leave.\")\n",
        "print(\"How do you feel?\")\n",
        "request=input(name+':')\n",
        "\n",
        "# Check if they are feeling sick or fine and customize response accordingly\n",
        "\n",
        "if sid.polarity_scores(request)['neg']>sid.polarity_scores(request)['pos']:\n",
        "  print('Dr. Bot:',\"I'm sorry you don't feel well. What would you like to know more about?\")\n",
        "else:\n",
        "  print('Dr. Bot:',\"I'm glad you feel well. What would you like to know more about?\")\n",
        "\n",
        "while True:\n",
        "    request = input(name+': ')\n",
        "\n",
        "    # remove punctuation and lower case the request\n",
        "    # todo: remove stopwords\n",
        "\n",
        "    clean_request = re.sub(r'[^\\w\\s]', '', request.lower())\n",
        "\n",
        "    if clean_request  =='bye' or  clean_request ==\"thanks\":\n",
        "        print('Dr. Bot: Thanks for chatting with me! Please visit the patient portal for followup appointments and to refill any meds.')\n",
        "        break\n",
        "\n",
        "    else:\n",
        "\n",
        "        response = bot.get_response(clean_request)\n",
        "        print('Dr. Bot:',response)"
      ],
      "metadata": {
        "colab": {
          "base_uri": "https://localhost:8080/"
        },
        "id": "I3exyDE9fVUT",
        "outputId": "57faaa4f-fdfe-4acb-d269-09fdac919df6"
      },
      "execution_count": null,
      "outputs": [
        {
          "output_type": "stream",
          "name": "stdout",
          "text": [
            "What is your name? amanda\n",
            "Welcome to the Dr. Bot Service! For medical emergencies, please dial 911.\n",
            "Please say Bye or Thanks before you leave.\n",
            "How do you feel?\n",
            "amanda:bye\n",
            "Dr. Bot: I'm glad you feel well. What would you like to know more about?\n",
            "amanda: water\n",
            "Dr. Bot: Summary : We all need to drink water.\n",
            "amanda: paper\n",
            "Dr. Bot: treatments congenital heart defects\n",
            "amanda: what time is it\n",
            "Dr. Bot: many people affected 3hydroxyacylcoa dehydrogenase deficiency\n",
            "amanda: $#$255\n",
            "Dr. Bot: symptoms familial dermographism\n",
            "amanda: bye\n",
            "Dr. Bot: Thanks for chatting with me! Please visit the patient portal for followup appointments and to refill any meds.\n"
          ]
        }
      ]
    },
    {
      "cell_type": "markdown",
      "source": [
        "# 5. Personal Contribution Statement (10 pts)\n",
        "\n",
        "\n",
        "####Summary of tasks and team members' contributions\n",
        "\n",
        "<br>\n",
        "\n",
        "<table>\n",
        "<tr><td><b>Task</b></td><td><b>Team Member(s)</b></td><td><b> Contribution</b></td> </tr>\n",
        "<tr><td>Learn Web Applications</td><td>Ed</td> <td>Searchlight</td>\n",
        "</tr>\n",
        "<tr><td>Learn Web Applications</td><td>Amanda</td> <td>Flask Tutorial</td></tr>\n",
        "<tr><td>Review Health Care Free/Public Data Sources</td><td>Amanda</td> <td>Research Kaggle, NIH, **etc**.</td></tr>\n",
        "<tr><td>Communicate Project Requirements</td><td>Wade</td> <td>Obtain information from T.A. </td></tr>\n",
        "</table>\n",
        "\n",
        "\n",
        "---\n",
        "\n",
        "\n",
        "#### **Amanda Alonzo Personal Statement**\n",
        "\n",
        "I researched chatbots using huggging face and found that alghouth powerful, loading the models for transfer learning was time consuming and perhaps too much processing for our use case because we have our own more isolated body of questions and answers to utilize.\n",
        "\n",
        "The chatterbot package provides a more lightweight option that can load quickly and be custom trained with our data as a corpus. I tried to train the chatterbot using basic text, but this had the limitation of a maximum of 1,000,000 characters that our data set exceeded. Also, it seemed to be limited to chronological or sequential conversational order. Whereas our use case is a body of questions and answers that someone may ask any question not in a specific order.\n",
        "\n",
        "Therefore, I tried to train the chatterbot using a yaml document that explicitly states what the user may enter and what the bot can respond as to support any sequence of questions.\n",
        "\n",
        "Due to the nature of health care data, I chose to configure the bot as read only so that any sensitive information the person enters will not be saved. This allows for removal of any PHI or sensitive information for HIPAA that we wanted to support.\n",
        "\n",
        "Although rule-based systems have limited scalability, for the case of health care, we wanted to provide some more structure and explicit rules. To do this, we opted for acknowledgements prior to using for medical emergencies and consulting an actual doctor.\n",
        "\n",
        "Lastly, I researched web application frameworks by doing the Flask tutorial and setup the github and Heroku account to prepare for deployment.\n",
        "\n",
        "---\n",
        "\n",
        "\n",
        "#### **Wade Lail Personal Statement**\n",
        "\n",
        "\n",
        "---\n",
        "\n",
        "\n",
        "#### **Ed Zarek Personal Statement**"
      ],
      "metadata": {
        "id": "VEscFUQQZWtJ"
      }
    },
    {
      "cell_type": "code",
      "source": [],
      "metadata": {
        "id": "d-lkyZWPY7mC"
      },
      "execution_count": null,
      "outputs": []
    },
    {
      "cell_type": "markdown",
      "source": [
        "## Resources\n",
        "\n",
        "https://www.datacamp.com/tutorial/building-a-chatbot-using-chatterbot\n",
        "\n",
        "https://pypi.org/project/ChatterBot2/\n",
        "\n",
        "\n",
        "## Data:\n",
        "\n",
        "Health Care Q & A\n",
        "\n",
        "https://www.kaggle.com/datasets/thedevastator/comprehensive-medical-q-a-dataset/data\n",
        "\n",
        "Medication Side Effects\n",
        "\n",
        "\n",
        "https://www.kaggle.com/datasets/jithinanievarghese/drugs-side-effects-and-medical-condition\n",
        "\n"
      ],
      "metadata": {
        "id": "TcjCA6fOTMt6"
      }
    },
    {
      "cell_type": "code",
      "source": [],
      "metadata": {
        "id": "G6wGifGsTOMq"
      },
      "execution_count": null,
      "outputs": []
    }
  ]
}