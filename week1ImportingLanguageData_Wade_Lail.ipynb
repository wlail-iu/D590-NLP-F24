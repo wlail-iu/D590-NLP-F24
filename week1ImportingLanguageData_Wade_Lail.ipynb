{
  "cells": [
    {
      "cell_type": "markdown",
      "metadata": {
        "id": "view-in-github",
        "colab_type": "text"
      },
      "source": [
        "<a href=\"https://colab.research.google.com/github/wlail-iu/D590-NLP-F24/blob/main/week1ImportingLanguageData_Wade_Lail.ipynb\" target=\"_parent\"><img src=\"https://colab.research.google.com/assets/colab-badge.svg\" alt=\"Open In Colab\"/></a>"
      ]
    },
    {
      "cell_type": "markdown",
      "metadata": {
        "id": "FTA47Y0r45iM"
      },
      "source": [
        "# Extracting Language Data from Various Sources"
      ]
    },
    {
      "cell_type": "markdown",
      "metadata": {
        "id": "NF1I-z3P45iN"
      },
      "source": [
        "Introduction to NLP for Data Science\n",
        "\n",
        "Fall 2024\n",
        "\n",
        "The goal of this practice to introduce learners to different kind of unstructured text and format."
      ]
    },
    {
      "cell_type": "markdown",
      "metadata": {
        "id": "rGYWnrKW45iN"
      },
      "source": [
        "## PDF Import"
      ]
    },
    {
      "cell_type": "code",
      "source": [
        "!pip install PyPDF2"
      ],
      "metadata": {
        "id": "yaD_jDLe484Z"
      },
      "execution_count": null,
      "outputs": []
    },
    {
      "cell_type": "code",
      "execution_count": null,
      "metadata": {
        "id": "-Cm0t7lk45iN"
      },
      "outputs": [],
      "source": [
        "import PyPDF2\n",
        "import warnings\n",
        "warnings.filterwarnings('ignore')"
      ]
    },
    {
      "cell_type": "code",
      "source": [
        "from google.colab import files\n",
        "uploaded = files.upload()"
      ],
      "metadata": {
        "id": "5BBbbnxg5DgC"
      },
      "execution_count": null,
      "outputs": []
    },
    {
      "cell_type": "code",
      "execution_count": null,
      "metadata": {
        "id": "8RavaVxM45iO"
      },
      "outputs": [],
      "source": [
        "pdfFileObject = open('test.pdf','rb')"
      ]
    },
    {
      "cell_type": "code",
      "execution_count": null,
      "metadata": {
        "id": "XqSBrotv45iO"
      },
      "outputs": [],
      "source": [
        "reader = PyPDF2.PdfReader(pdfFileObject)\n",
        "print(len(reader.pages))"
      ]
    },
    {
      "cell_type": "code",
      "execution_count": null,
      "metadata": {
        "id": "fPuypKWV45iP"
      },
      "outputs": [],
      "source": [
        "firstPage = reader.pages[0]\n",
        "print(firstPage.extract_text())"
      ]
    },
    {
      "cell_type": "markdown",
      "metadata": {
        "id": "KBjSTSUV45iP"
      },
      "source": [
        "### Extract all text for processing"
      ]
    },
    {
      "cell_type": "code",
      "execution_count": null,
      "metadata": {
        "id": "FaUky7vZ45iP"
      },
      "outputs": [],
      "source": [
        "pdf_data = \"\"\n",
        "number_of_pages = len(reader.pages)\n",
        "for page_number in range(number_of_pages):   # use xrange in Py2\n",
        "    page = reader.pages[page_number]\n",
        "    page_content = page.extract_text()\n",
        "    pdf_data+=page_content"
      ]
    },
    {
      "cell_type": "code",
      "execution_count": null,
      "metadata": {
        "id": "0YIUvCo845iP"
      },
      "outputs": [],
      "source": [
        "pdf_data = []\n",
        "number_of_pages = len(reader.pages)\n",
        "for page_number in range(number_of_pages):   # use xrange in Py2\n",
        "    page = reader.pages[page_number]\n",
        "    page_content = page.extract_text()\n",
        "    pdf_data.append(page_content)\n",
        "' '.join(pdf_data)"
      ]
    },
    {
      "cell_type": "code",
      "execution_count": null,
      "metadata": {
        "id": "mpFSb5ei45iP"
      },
      "outputs": [],
      "source": [
        "pdfFileObject.close()"
      ]
    },
    {
      "cell_type": "code",
      "execution_count": null,
      "metadata": {
        "id": "3TIZa4jV45iP"
      },
      "outputs": [],
      "source": [
        "#pdf_data"
      ]
    },
    {
      "cell_type": "markdown",
      "metadata": {
        "id": "GFsShFyd45iP"
      },
      "source": [
        "## JSON Documents"
      ]
    },
    {
      "cell_type": "code",
      "execution_count": null,
      "metadata": {
        "id": "c9NpRAJN45iP"
      },
      "outputs": [],
      "source": [
        "import requests\n",
        "import json"
      ]
    },
    {
      "cell_type": "markdown",
      "source": [
        "Learn how to extract a text from API in a json format"
      ],
      "metadata": {
        "id": "xyCQu9de7c6a"
      }
    },
    {
      "cell_type": "code",
      "execution_count": null,
      "metadata": {
        "id": "QXkRqA9P45iQ"
      },
      "outputs": [],
      "source": [
        "r = requests.get(\"https://api.chucknorris.io/jokes/random\")\n",
        "res = r.json()\n",
        "print(json.dumps(res, indent = 4))"
      ]
    },
    {
      "cell_type": "code",
      "execution_count": null,
      "metadata": {
        "id": "_zbwMslS45iQ"
      },
      "outputs": [],
      "source": [
        "#extract contents\n",
        "q = res['value']"
      ]
    },
    {
      "cell_type": "code",
      "execution_count": null,
      "metadata": {
        "id": "G_aDgrQW45iQ"
      },
      "outputs": [],
      "source": [
        "q"
      ]
    },
    {
      "cell_type": "markdown",
      "metadata": {
        "id": "MqidUXQc45iQ"
      },
      "source": [
        "## HTML Import"
      ]
    },
    {
      "cell_type": "code",
      "execution_count": null,
      "metadata": {
        "id": "JzzK5__y45iQ"
      },
      "outputs": [],
      "source": [
        "import urllib.request as urllib3\n",
        "from bs4 import BeautifulSoup"
      ]
    },
    {
      "cell_type": "code",
      "execution_count": null,
      "metadata": {
        "id": "5M99NcZ345iQ"
      },
      "outputs": [],
      "source": [
        "response = urllib3.urlopen('https://en.wikipedia.org/wiki/Natural_language_processing')\n",
        "html_doc = response.read()"
      ]
    },
    {
      "cell_type": "code",
      "execution_count": null,
      "metadata": {
        "id": "JlEDtLQP45iQ"
      },
      "outputs": [],
      "source": [
        "soup = BeautifulSoup(html_doc, 'html.parser')\n",
        "strhtm = soup.prettify()\n",
        "print(strhtm[:1000])"
      ]
    },
    {
      "cell_type": "code",
      "execution_count": null,
      "metadata": {
        "id": "pVD2S7c045iQ"
      },
      "outputs": [],
      "source": [
        "print(soup.title)\n",
        "print(soup.title.string)\n",
        "#for x in soup.find_all('p'): print(x.text)"
      ]
    }
  ],
  "metadata": {
    "kernelspec": {
      "display_name": "Python 3",
      "language": "python",
      "name": "python3"
    },
    "language_info": {
      "codemirror_mode": {
        "name": "ipython",
        "version": 3
      },
      "file_extension": ".py",
      "mimetype": "text/x-python",
      "name": "python",
      "nbconvert_exporter": "python",
      "pygments_lexer": "ipython3",
      "version": "3.7.1"
    },
    "colab": {
      "provenance": [],
      "include_colab_link": true
    }
  },
  "nbformat": 4,
  "nbformat_minor": 0
}