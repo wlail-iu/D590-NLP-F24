{
  "cells": [
    {
      "cell_type": "markdown",
      "metadata": {
        "id": "view-in-github",
        "colab_type": "text"
      },
      "source": [
        "<a href=\"https://colab.research.google.com/github/wlail-iu/D590-NLP-F24/blob/main/Copy_of_week1ImportingLanguageData_Wade_Lailv2_results.ipynb\" target=\"_parent\"><img src=\"https://colab.research.google.com/assets/colab-badge.svg\" alt=\"Open In Colab\"/></a>"
      ]
    },
    {
      "cell_type": "markdown",
      "metadata": {
        "id": "FTA47Y0r45iM"
      },
      "source": [
        "# Extracting Language Data from Various Sources"
      ]
    },
    {
      "cell_type": "markdown",
      "metadata": {
        "id": "NF1I-z3P45iN"
      },
      "source": [
        "Introduction to NLP for Data Science\n",
        "\n",
        "Fall 2024\n",
        "\n",
        "The goal of this practice to introduce learners to different kind of unstructured text and format."
      ]
    },
    {
      "cell_type": "markdown",
      "metadata": {
        "id": "rGYWnrKW45iN"
      },
      "source": [
        "## PDF Import"
      ]
    },
    {
      "cell_type": "code",
      "source": [
        "!pip install PyPDF2"
      ],
      "metadata": {
        "id": "yaD_jDLe484Z",
        "outputId": "acf722c1-6c9b-473d-b8c6-6c7507eb4dd6",
        "colab": {
          "base_uri": "https://localhost:8080/"
        }
      },
      "execution_count": null,
      "outputs": [
        {
          "output_type": "stream",
          "name": "stdout",
          "text": [
            "Collecting PyPDF2\n",
            "  Downloading pypdf2-3.0.1-py3-none-any.whl.metadata (6.8 kB)\n",
            "Downloading pypdf2-3.0.1-py3-none-any.whl (232 kB)\n",
            "\u001b[2K   \u001b[90m━━━━━━━━━━━━━━━━━━━━━━━━━━━━━━━━━━━━━━━━\u001b[0m \u001b[32m232.6/232.6 kB\u001b[0m \u001b[31m1.4 MB/s\u001b[0m eta \u001b[36m0:00:00\u001b[0m\n",
            "\u001b[?25hInstalling collected packages: PyPDF2\n",
            "Successfully installed PyPDF2-3.0.1\n"
          ]
        }
      ]
    },
    {
      "cell_type": "code",
      "execution_count": null,
      "metadata": {
        "id": "-Cm0t7lk45iN"
      },
      "outputs": [],
      "source": [
        "import PyPDF2\n",
        "import warnings\n",
        "warnings.filterwarnings('ignore')"
      ]
    },
    {
      "cell_type": "code",
      "source": [
        "from google.colab import files\n",
        "uploaded = files.upload()"
      ],
      "metadata": {
        "id": "5BBbbnxg5DgC",
        "outputId": "9ca0d178-2ae1-472a-f034-f9b7b807a6f8",
        "colab": {
          "base_uri": "https://localhost:8080/",
          "height": 73
        }
      },
      "execution_count": null,
      "outputs": [
        {
          "output_type": "display_data",
          "data": {
            "text/plain": [
              "<IPython.core.display.HTML object>"
            ],
            "text/html": [
              "\n",
              "     <input type=\"file\" id=\"files-e4075f96-4298-46a8-8a4c-1d37e890c13d\" name=\"files[]\" multiple disabled\n",
              "        style=\"border:none\" />\n",
              "     <output id=\"result-e4075f96-4298-46a8-8a4c-1d37e890c13d\">\n",
              "      Upload widget is only available when the cell has been executed in the\n",
              "      current browser session. Please rerun this cell to enable.\n",
              "      </output>\n",
              "      <script>// Copyright 2017 Google LLC\n",
              "//\n",
              "// Licensed under the Apache License, Version 2.0 (the \"License\");\n",
              "// you may not use this file except in compliance with the License.\n",
              "// You may obtain a copy of the License at\n",
              "//\n",
              "//      http://www.apache.org/licenses/LICENSE-2.0\n",
              "//\n",
              "// Unless required by applicable law or agreed to in writing, software\n",
              "// distributed under the License is distributed on an \"AS IS\" BASIS,\n",
              "// WITHOUT WARRANTIES OR CONDITIONS OF ANY KIND, either express or implied.\n",
              "// See the License for the specific language governing permissions and\n",
              "// limitations under the License.\n",
              "\n",
              "/**\n",
              " * @fileoverview Helpers for google.colab Python module.\n",
              " */\n",
              "(function(scope) {\n",
              "function span(text, styleAttributes = {}) {\n",
              "  const element = document.createElement('span');\n",
              "  element.textContent = text;\n",
              "  for (const key of Object.keys(styleAttributes)) {\n",
              "    element.style[key] = styleAttributes[key];\n",
              "  }\n",
              "  return element;\n",
              "}\n",
              "\n",
              "// Max number of bytes which will be uploaded at a time.\n",
              "const MAX_PAYLOAD_SIZE = 100 * 1024;\n",
              "\n",
              "function _uploadFiles(inputId, outputId) {\n",
              "  const steps = uploadFilesStep(inputId, outputId);\n",
              "  const outputElement = document.getElementById(outputId);\n",
              "  // Cache steps on the outputElement to make it available for the next call\n",
              "  // to uploadFilesContinue from Python.\n",
              "  outputElement.steps = steps;\n",
              "\n",
              "  return _uploadFilesContinue(outputId);\n",
              "}\n",
              "\n",
              "// This is roughly an async generator (not supported in the browser yet),\n",
              "// where there are multiple asynchronous steps and the Python side is going\n",
              "// to poll for completion of each step.\n",
              "// This uses a Promise to block the python side on completion of each step,\n",
              "// then passes the result of the previous step as the input to the next step.\n",
              "function _uploadFilesContinue(outputId) {\n",
              "  const outputElement = document.getElementById(outputId);\n",
              "  const steps = outputElement.steps;\n",
              "\n",
              "  const next = steps.next(outputElement.lastPromiseValue);\n",
              "  return Promise.resolve(next.value.promise).then((value) => {\n",
              "    // Cache the last promise value to make it available to the next\n",
              "    // step of the generator.\n",
              "    outputElement.lastPromiseValue = value;\n",
              "    return next.value.response;\n",
              "  });\n",
              "}\n",
              "\n",
              "/**\n",
              " * Generator function which is called between each async step of the upload\n",
              " * process.\n",
              " * @param {string} inputId Element ID of the input file picker element.\n",
              " * @param {string} outputId Element ID of the output display.\n",
              " * @return {!Iterable<!Object>} Iterable of next steps.\n",
              " */\n",
              "function* uploadFilesStep(inputId, outputId) {\n",
              "  const inputElement = document.getElementById(inputId);\n",
              "  inputElement.disabled = false;\n",
              "\n",
              "  const outputElement = document.getElementById(outputId);\n",
              "  outputElement.innerHTML = '';\n",
              "\n",
              "  const pickedPromise = new Promise((resolve) => {\n",
              "    inputElement.addEventListener('change', (e) => {\n",
              "      resolve(e.target.files);\n",
              "    });\n",
              "  });\n",
              "\n",
              "  const cancel = document.createElement('button');\n",
              "  inputElement.parentElement.appendChild(cancel);\n",
              "  cancel.textContent = 'Cancel upload';\n",
              "  const cancelPromise = new Promise((resolve) => {\n",
              "    cancel.onclick = () => {\n",
              "      resolve(null);\n",
              "    };\n",
              "  });\n",
              "\n",
              "  // Wait for the user to pick the files.\n",
              "  const files = yield {\n",
              "    promise: Promise.race([pickedPromise, cancelPromise]),\n",
              "    response: {\n",
              "      action: 'starting',\n",
              "    }\n",
              "  };\n",
              "\n",
              "  cancel.remove();\n",
              "\n",
              "  // Disable the input element since further picks are not allowed.\n",
              "  inputElement.disabled = true;\n",
              "\n",
              "  if (!files) {\n",
              "    return {\n",
              "      response: {\n",
              "        action: 'complete',\n",
              "      }\n",
              "    };\n",
              "  }\n",
              "\n",
              "  for (const file of files) {\n",
              "    const li = document.createElement('li');\n",
              "    li.append(span(file.name, {fontWeight: 'bold'}));\n",
              "    li.append(span(\n",
              "        `(${file.type || 'n/a'}) - ${file.size} bytes, ` +\n",
              "        `last modified: ${\n",
              "            file.lastModifiedDate ? file.lastModifiedDate.toLocaleDateString() :\n",
              "                                    'n/a'} - `));\n",
              "    const percent = span('0% done');\n",
              "    li.appendChild(percent);\n",
              "\n",
              "    outputElement.appendChild(li);\n",
              "\n",
              "    const fileDataPromise = new Promise((resolve) => {\n",
              "      const reader = new FileReader();\n",
              "      reader.onload = (e) => {\n",
              "        resolve(e.target.result);\n",
              "      };\n",
              "      reader.readAsArrayBuffer(file);\n",
              "    });\n",
              "    // Wait for the data to be ready.\n",
              "    let fileData = yield {\n",
              "      promise: fileDataPromise,\n",
              "      response: {\n",
              "        action: 'continue',\n",
              "      }\n",
              "    };\n",
              "\n",
              "    // Use a chunked sending to avoid message size limits. See b/62115660.\n",
              "    let position = 0;\n",
              "    do {\n",
              "      const length = Math.min(fileData.byteLength - position, MAX_PAYLOAD_SIZE);\n",
              "      const chunk = new Uint8Array(fileData, position, length);\n",
              "      position += length;\n",
              "\n",
              "      const base64 = btoa(String.fromCharCode.apply(null, chunk));\n",
              "      yield {\n",
              "        response: {\n",
              "          action: 'append',\n",
              "          file: file.name,\n",
              "          data: base64,\n",
              "        },\n",
              "      };\n",
              "\n",
              "      let percentDone = fileData.byteLength === 0 ?\n",
              "          100 :\n",
              "          Math.round((position / fileData.byteLength) * 100);\n",
              "      percent.textContent = `${percentDone}% done`;\n",
              "\n",
              "    } while (position < fileData.byteLength);\n",
              "  }\n",
              "\n",
              "  // All done.\n",
              "  yield {\n",
              "    response: {\n",
              "      action: 'complete',\n",
              "    }\n",
              "  };\n",
              "}\n",
              "\n",
              "scope.google = scope.google || {};\n",
              "scope.google.colab = scope.google.colab || {};\n",
              "scope.google.colab._files = {\n",
              "  _uploadFiles,\n",
              "  _uploadFilesContinue,\n",
              "};\n",
              "})(self);\n",
              "</script> "
            ]
          },
          "metadata": {}
        },
        {
          "output_type": "stream",
          "name": "stdout",
          "text": [
            "Saving test.pdf to test.pdf\n"
          ]
        }
      ]
    },
    {
      "cell_type": "code",
      "execution_count": null,
      "metadata": {
        "id": "8RavaVxM45iO"
      },
      "outputs": [],
      "source": [
        "pdfFileObject = open('test.pdf','rb')"
      ]
    },
    {
      "cell_type": "code",
      "execution_count": null,
      "metadata": {
        "id": "XqSBrotv45iO",
        "outputId": "84019feb-1a90-4937-8645-9bbe7a498b17",
        "colab": {
          "base_uri": "https://localhost:8080/"
        }
      },
      "outputs": [
        {
          "output_type": "stream",
          "name": "stdout",
          "text": [
            "1\n"
          ]
        }
      ],
      "source": [
        "reader = PyPDF2.PdfReader(pdfFileObject)\n",
        "print(len(reader.pages))"
      ]
    },
    {
      "cell_type": "code",
      "execution_count": null,
      "metadata": {
        "id": "fPuypKWV45iP",
        "outputId": "35bb8bba-d5a3-4f64-e59e-c4ec8a9db1a8",
        "colab": {
          "base_uri": "https://localhost:8080/"
        }
      },
      "outputs": [
        {
          "output_type": "stream",
          "name": "stdout",
          "text": [
            " \n",
            "Lorem Ipsum  is simply dummy text of the printing and typesetting industry. Lorem Ipsum has been \n",
            "the industry's standard dummy text ever since the 1500s, when an unknown printer took a galley of \n",
            "type and scrambled it to make a type specimen book. It has survived not o nly five centuries, but also \n",
            "the leap into electronic typesetting, remaining essentially unchanged. It was popularised in the 1960s \n",
            "with the release of Letraset sheets containing Lorem Ipsum passages, and more recently with desktop \n",
            "publishing software like  Aldus PageMaker including versions of Lorem Ipsum.  \n",
            "Why do we use it?  \n",
            "It is a long established fact that a reader will be distracted by the readable content of a page when \n",
            "looking at its layout. The point of using Lorem Ipsum is that it has a more -or-less normal distribution \n",
            "of letters, as opposed to using 'Content here, content here', making it look like readable English. Many \n",
            "desktop publishing packages and web page editors now use Lorem Ipsum as their default model text, \n",
            "and a search for 'lorem ipsum' wi ll uncover many web sites still in their infancy. Various versions have \n",
            "evolved over the years, sometimes by accident, sometimes on purpose (injected humour and the like).  \n",
            " \n",
            "\n"
          ]
        }
      ],
      "source": [
        "firstPage = reader.pages[0]\n",
        "print(firstPage.extract_text())"
      ]
    },
    {
      "cell_type": "markdown",
      "metadata": {
        "id": "KBjSTSUV45iP"
      },
      "source": [
        "### Extract all text for processing"
      ]
    },
    {
      "cell_type": "code",
      "execution_count": null,
      "metadata": {
        "id": "FaUky7vZ45iP"
      },
      "outputs": [],
      "source": [
        "pdf_data = \"\"\n",
        "number_of_pages = len(reader.pages)\n",
        "for page_number in range(number_of_pages):   # use xrange in Py2\n",
        "    page = reader.pages[page_number]\n",
        "    page_content = page.extract_text()\n",
        "    pdf_data+=page_content"
      ]
    },
    {
      "cell_type": "code",
      "execution_count": null,
      "metadata": {
        "id": "0YIUvCo845iP",
        "outputId": "c7fe69dc-cfb9-4d81-9e06-9320c2a84362",
        "colab": {
          "base_uri": "https://localhost:8080/",
          "height": 124
        }
      },
      "outputs": [
        {
          "output_type": "execute_result",
          "data": {
            "text/plain": [
              "\" \\nLorem Ipsum  is simply dummy text of the printing and typesetting industry. Lorem Ipsum has been \\nthe industry's standard dummy text ever since the 1500s, when an unknown printer took a galley of \\ntype and scrambled it to make a type specimen book. It has survived not o nly five centuries, but also \\nthe leap into electronic typesetting, remaining essentially unchanged. It was popularised in the 1960s \\nwith the release of Letraset sheets containing Lorem Ipsum passages, and more recently with desktop \\npublishing software like  Aldus PageMaker including versions of Lorem Ipsum.  \\nWhy do we use it?  \\nIt is a long established fact that a reader will be distracted by the readable content of a page when \\nlooking at its layout. The point of using Lorem Ipsum is that it has a more -or-less normal distribution \\nof letters, as opposed to using 'Content here, content here', making it look like readable English. Many \\ndesktop publishing packages and web page editors now use Lorem Ipsum as their default model text, \\nand a search for 'lorem ipsum' wi ll uncover many web sites still in their infancy. Various versions have \\nevolved over the years, sometimes by accident, sometimes on purpose (injected humour and the like).  \\n \\n\""
            ],
            "application/vnd.google.colaboratory.intrinsic+json": {
              "type": "string"
            }
          },
          "metadata": {},
          "execution_count": 9
        }
      ],
      "source": [
        "pdf_data = []\n",
        "number_of_pages = len(reader.pages)\n",
        "for page_number in range(number_of_pages):   # use xrange in Py2\n",
        "    page = reader.pages[page_number]\n",
        "    page_content = page.extract_text()\n",
        "    pdf_data.append(page_content)\n",
        "' '.join(pdf_data)"
      ]
    },
    {
      "cell_type": "code",
      "execution_count": null,
      "metadata": {
        "id": "mpFSb5ei45iP"
      },
      "outputs": [],
      "source": [
        "pdfFileObject.close()"
      ]
    },
    {
      "cell_type": "code",
      "execution_count": null,
      "metadata": {
        "id": "3TIZa4jV45iP"
      },
      "outputs": [],
      "source": [
        "#pdf_data"
      ]
    },
    {
      "cell_type": "markdown",
      "metadata": {
        "id": "GFsShFyd45iP"
      },
      "source": [
        "## JSON Documents"
      ]
    },
    {
      "cell_type": "code",
      "execution_count": null,
      "metadata": {
        "id": "c9NpRAJN45iP"
      },
      "outputs": [],
      "source": [
        "import requests\n",
        "import json"
      ]
    },
    {
      "cell_type": "markdown",
      "source": [
        "Learn how to extract a text from API in a json format"
      ],
      "metadata": {
        "id": "xyCQu9de7c6a"
      }
    },
    {
      "cell_type": "code",
      "execution_count": null,
      "metadata": {
        "id": "QXkRqA9P45iQ",
        "outputId": "000b70b1-5056-4acf-dee4-b9c3fdcea586",
        "colab": {
          "base_uri": "https://localhost:8080/"
        }
      },
      "outputs": [
        {
          "output_type": "stream",
          "name": "stdout",
          "text": [
            "{\n",
            "    \"categories\": [],\n",
            "    \"created_at\": \"2020-01-05 13:42:20.262289\",\n",
            "    \"icon_url\": \"https://api.chucknorris.io/img/avatar/chuck-norris.png\",\n",
            "    \"id\": \"s8yWDFKjTta520xXp88XSA\",\n",
            "    \"updated_at\": \"2020-01-05 13:42:20.262289\",\n",
            "    \"url\": \"https://api.chucknorris.io/jokes/s8yWDFKjTta520xXp88XSA\",\n",
            "    \"value\": \"Chuck Norris invented awesome sauce by drinking hot sauce and spitting it out.\"\n",
            "}\n"
          ]
        }
      ],
      "source": [
        "r = requests.get(\"https://api.chucknorris.io/jokes/random\")\n",
        "res = r.json()\n",
        "print(json.dumps(res, indent = 4))"
      ]
    },
    {
      "cell_type": "code",
      "execution_count": null,
      "metadata": {
        "id": "_zbwMslS45iQ"
      },
      "outputs": [],
      "source": [
        "#extract contents\n",
        "q = res['value']"
      ]
    },
    {
      "cell_type": "code",
      "execution_count": null,
      "metadata": {
        "id": "G_aDgrQW45iQ"
      },
      "outputs": [],
      "source": [
        "q"
      ]
    },
    {
      "cell_type": "markdown",
      "metadata": {
        "id": "MqidUXQc45iQ"
      },
      "source": [
        "## HTML Import"
      ]
    },
    {
      "cell_type": "code",
      "execution_count": null,
      "metadata": {
        "id": "JzzK5__y45iQ"
      },
      "outputs": [],
      "source": [
        "import urllib.request as urllib3\n",
        "from bs4 import BeautifulSoup"
      ]
    },
    {
      "cell_type": "code",
      "execution_count": null,
      "metadata": {
        "id": "5M99NcZ345iQ"
      },
      "outputs": [],
      "source": [
        "response = urllib3.urlopen('https://en.wikipedia.org/wiki/Natural_language_processing')\n",
        "html_doc = response.read()"
      ]
    },
    {
      "cell_type": "code",
      "execution_count": null,
      "metadata": {
        "id": "JlEDtLQP45iQ",
        "outputId": "869399b6-7cf1-4f21-cebe-fd30daa828d4",
        "colab": {
          "base_uri": "https://localhost:8080/"
        }
      },
      "outputs": [
        {
          "output_type": "stream",
          "name": "stdout",
          "text": [
            "<!DOCTYPE html>\n",
            "<html class=\"client-nojs vector-feature-language-in-header-enabled vector-feature-language-in-main-page-header-disabled vector-feature-sticky-header-disabled vector-feature-page-tools-pinned-disabled vector-feature-toc-pinned-clientpref-1 vector-feature-main-menu-pinned-disabled vector-feature-limited-width-clientpref-1 vector-feature-limited-width-content-enabled vector-feature-custom-font-size-clientpref-1 vector-feature-appearance-enabled vector-feature-appearance-pinned-clientpref-1 vector-feature-night-mode-enabled skin-theme-clientpref-day vector-toc-available\" dir=\"ltr\" lang=\"en\">\n",
            " <head>\n",
            "  <meta charset=\"utf-8\"/>\n",
            "  <title>\n",
            "   Natural language processing - Wikipedia\n",
            "  </title>\n",
            "  <script>\n",
            "   (function(){var className=\"client-js vector-feature-language-in-header-enabled vector-feature-language-in-main-page-header-disabled vector-feature-sticky-header-disabled vector-feature-page-tools-pinned-disabled vector-feature-toc-pinned-clientpref-1 vector-feature-main-menu-p\n"
          ]
        }
      ],
      "source": [
        "soup = BeautifulSoup(html_doc, 'html.parser')\n",
        "strhtm = soup.prettify()\n",
        "print(strhtm[:1000])"
      ]
    },
    {
      "cell_type": "code",
      "execution_count": null,
      "metadata": {
        "id": "pVD2S7c045iQ",
        "outputId": "db417672-1ec6-4238-9ed7-5404ad8db0f6",
        "colab": {
          "base_uri": "https://localhost:8080/"
        }
      },
      "outputs": [
        {
          "output_type": "stream",
          "name": "stdout",
          "text": [
            "<title>Natural language processing - Wikipedia</title>\n",
            "Natural language processing - Wikipedia\n"
          ]
        }
      ],
      "source": [
        "print(soup.title)\n",
        "print(soup.title.string)\n",
        "#for x in soup.find_all('p'): print(x.text)"
      ]
    }
  ],
  "metadata": {
    "kernelspec": {
      "display_name": "Python 3",
      "language": "python",
      "name": "python3"
    },
    "language_info": {
      "codemirror_mode": {
        "name": "ipython",
        "version": 3
      },
      "file_extension": ".py",
      "mimetype": "text/x-python",
      "name": "python",
      "nbconvert_exporter": "python",
      "pygments_lexer": "ipython3",
      "version": "3.7.1"
    },
    "colab": {
      "provenance": [],
      "include_colab_link": true
    }
  },
  "nbformat": 4,
  "nbformat_minor": 0
}