{
  "nbformat": 4,
  "nbformat_minor": 0,
  "metadata": {
    "colab": {
      "provenance": [],
      "include_colab_link": true
    },
    "kernelspec": {
      "name": "python3",
      "display_name": "Python 3"
    },
    "language_info": {
      "name": "python"
    }
  },
  "cells": [
    {
      "cell_type": "markdown",
      "metadata": {
        "id": "view-in-github",
        "colab_type": "text"
      },
      "source": [
        "<a href=\"https://colab.research.google.com/github/wlail-iu/D590-NLP-F24/blob/main/WLail_Week_11_Copy_of_TTS.ipynb\" target=\"_parent\"><img src=\"https://colab.research.google.com/assets/colab-badge.svg\" alt=\"Open In Colab\"/></a>"
      ]
    },
    {
      "cell_type": "code",
      "source": [
        "!pip install gTTS"
      ],
      "metadata": {
        "colab": {
          "base_uri": "https://localhost:8080/"
        },
        "id": "5UzzwYv900XC",
        "outputId": "fc91f0ef-5806-42c3-bcec-09d6c0207df8"
      },
      "execution_count": 1,
      "outputs": [
        {
          "output_type": "stream",
          "name": "stdout",
          "text": [
            "Collecting gTTS\n",
            "  Downloading gTTS-2.5.3-py3-none-any.whl.metadata (4.1 kB)\n",
            "Requirement already satisfied: requests<3,>=2.27 in /usr/local/lib/python3.10/dist-packages (from gTTS) (2.32.3)\n",
            "Requirement already satisfied: click<8.2,>=7.1 in /usr/local/lib/python3.10/dist-packages (from gTTS) (8.1.7)\n",
            "Requirement already satisfied: charset-normalizer<4,>=2 in /usr/local/lib/python3.10/dist-packages (from requests<3,>=2.27->gTTS) (3.4.0)\n",
            "Requirement already satisfied: idna<4,>=2.5 in /usr/local/lib/python3.10/dist-packages (from requests<3,>=2.27->gTTS) (3.10)\n",
            "Requirement already satisfied: urllib3<3,>=1.21.1 in /usr/local/lib/python3.10/dist-packages (from requests<3,>=2.27->gTTS) (2.2.3)\n",
            "Requirement already satisfied: certifi>=2017.4.17 in /usr/local/lib/python3.10/dist-packages (from requests<3,>=2.27->gTTS) (2024.8.30)\n",
            "Downloading gTTS-2.5.3-py3-none-any.whl (29 kB)\n",
            "Installing collected packages: gTTS\n",
            "Successfully installed gTTS-2.5.3\n"
          ]
        }
      ]
    },
    {
      "cell_type": "code",
      "execution_count": 2,
      "metadata": {
        "id": "3bTyxcpz0t6e",
        "colab": {
          "base_uri": "https://localhost:8080/"
        },
        "outputId": "7b7bfd3a-8061-4184-d9f0-a6917314cbe2"
      },
      "outputs": [
        {
          "output_type": "execute_result",
          "data": {
            "text/plain": [
              "32512"
            ]
          },
          "metadata": {},
          "execution_count": 2
        }
      ],
      "source": [
        "# Import the required module for text\n",
        "# to speech conversion\n",
        "from gtts import gTTS\n",
        "\n",
        "# This module is imported so that we can\n",
        "# play the converted audio\n",
        "import os\n",
        "\n",
        "# The text that you want to convert to audio\n",
        "mytext = 'Welcome to the big hotel'\n",
        "\n",
        "# Language in which you want to convert\n",
        "language = 'en'\n",
        "\n",
        "# Passing the text and language to the engine,\n",
        "# here we have marked slow=False. Which tells\n",
        "# the module that the converted audio should\n",
        "# have a high speed\n",
        "myobj = gTTS(text=mytext, lang=language, slow=False)\n",
        "\n",
        "# Saving the converted audio in a mp3 file named\n",
        "# welcome\n",
        "myobj.save(\"welcome.mp3\")\n",
        "\n",
        "# Playing the converted file\n",
        "os.system(\"mpg321 welcome.mp3\")"
      ]
    },
    {
      "cell_type": "code",
      "source": [
        "%ls"
      ],
      "metadata": {
        "colab": {
          "base_uri": "https://localhost:8080/"
        },
        "id": "jXZKK5nT1CAO",
        "outputId": "0465432b-d2bf-4152-a743-02d5821008c7"
      },
      "execution_count": 3,
      "outputs": [
        {
          "output_type": "stream",
          "name": "stdout",
          "text": [
            "\u001b[0m\u001b[01;34msample_data\u001b[0m/  welcome.mp3\n"
          ]
        }
      ]
    },
    {
      "cell_type": "code",
      "source": [
        "%pwd"
      ],
      "metadata": {
        "colab": {
          "base_uri": "https://localhost:8080/",
          "height": 36
        },
        "id": "Tv9sm5Disgt9",
        "outputId": "ddda9526-4bba-4956-e8c3-430a1daf45b2"
      },
      "execution_count": 4,
      "outputs": [
        {
          "output_type": "execute_result",
          "data": {
            "text/plain": [
              "'/content'"
            ],
            "application/vnd.google.colaboratory.intrinsic+json": {
              "type": "string"
            }
          },
          "metadata": {},
          "execution_count": 4
        }
      ]
    },
    {
      "cell_type": "markdown",
      "source": [
        "Your file is in the current directory. So the path /content/welcome.mp3 or just welcome.mp3"
      ],
      "metadata": {
        "id": "ONhuNa5LskeV"
      }
    },
    {
      "cell_type": "code",
      "source": [
        "from IPython.display import Audio, display\n",
        "\n",
        "display(Audio('/content/welcome.mp3', autoplay=True))"
      ],
      "metadata": {
        "colab": {
          "base_uri": "https://localhost:8080/",
          "height": 75
        },
        "id": "RLDeIZMnsBW6",
        "outputId": "8bdf3ad3-4c1d-4b99-dc2a-746e879f08d4"
      },
      "execution_count": 5,
      "outputs": [
        {
          "output_type": "display_data",
          "data": {
            "text/plain": [
              "<IPython.lib.display.Audio object>"
            ],
            "text/html": [
              "\n",
              "                <audio  controls=\"controls\" autoplay=\"autoplay\">\n",
              "                    <source src=\"data:audio/mpeg;base64,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\" type=\"audio/mpeg\" />\n",
              "                    Your browser does not support the audio element.\n",
              "                </audio>\n",
              "              "
            ]
          },
          "metadata": {}
        }
      ]
    },
    {
      "cell_type": "markdown",
      "source": [
        "Converting to WAV"
      ],
      "metadata": {
        "id": "qYpmpRQOtBeG"
      }
    },
    {
      "cell_type": "code",
      "source": [
        "!pip install pydub"
      ],
      "metadata": {
        "colab": {
          "base_uri": "https://localhost:8080/"
        },
        "id": "zmiytRRB4nQN",
        "outputId": "d4f45ba5-3f2e-462d-bb32-5a77c4522968"
      },
      "execution_count": 6,
      "outputs": [
        {
          "output_type": "stream",
          "name": "stdout",
          "text": [
            "Collecting pydub\n",
            "  Downloading pydub-0.25.1-py2.py3-none-any.whl.metadata (1.4 kB)\n",
            "Downloading pydub-0.25.1-py2.py3-none-any.whl (32 kB)\n",
            "Installing collected packages: pydub\n",
            "Successfully installed pydub-0.25.1\n"
          ]
        }
      ]
    },
    {
      "cell_type": "code",
      "source": [
        "from pydub import AudioSegment\n",
        "sound = AudioSegment.from_mp3(\"/content/welcome.mp3\")\n",
        "sound.export(\"/content/welcome.wav\", format=\"wav\")"
      ],
      "metadata": {
        "colab": {
          "base_uri": "https://localhost:8080/"
        },
        "id": "dByKy85L4l-I",
        "outputId": "0c7ce437-0a15-462e-8b86-d13a8eb8d463"
      },
      "execution_count": 7,
      "outputs": [
        {
          "output_type": "execute_result",
          "data": {
            "text/plain": [
              "<_io.BufferedRandom name='/content/welcome.wav'>"
            ]
          },
          "metadata": {},
          "execution_count": 7
        }
      ]
    }
  ]
}