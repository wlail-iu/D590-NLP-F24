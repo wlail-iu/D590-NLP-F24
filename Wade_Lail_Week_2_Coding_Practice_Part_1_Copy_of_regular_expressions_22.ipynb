{
  "cells": [
    {
      "cell_type": "markdown",
      "metadata": {
        "id": "view-in-github",
        "colab_type": "text"
      },
      "source": [
        "<a href=\"https://colab.research.google.com/github/wlail-iu/D590-NLP-F24/blob/main/Wade_Lail_Week_2_Coding_Practice_Part_1_Copy_of_regular_expressions_22.ipynb\" target=\"_parent\"><img src=\"https://colab.research.google.com/assets/colab-badge.svg\" alt=\"Open In Colab\"/></a>"
      ]
    },
    {
      "cell_type": "markdown",
      "metadata": {
        "id": "evaUI3r0mfpM"
      },
      "source": [
        "# Regular Expressions"
      ]
    },
    {
      "cell_type": "markdown",
      "metadata": {
        "id": "379FvJntmfpO"
      },
      "source": [
        "Created by Olga Scrivner\n",
        "\n",
        "Date: 08/28/2022\n",
        "\n",
        "Objective: Practice for Regular Expressions - week 2"
      ]
    },
    {
      "cell_type": "code",
      "execution_count": null,
      "metadata": {
        "id": "7Mqn3YMpmfpO"
      },
      "outputs": [],
      "source": [
        "import re"
      ]
    },
    {
      "cell_type": "markdown",
      "metadata": {
        "id": "t3TCm8N3mfpP"
      },
      "source": [
        "## Scraping text"
      ]
    },
    {
      "cell_type": "code",
      "execution_count": null,
      "metadata": {
        "id": "r3nEvs_HmfpP",
        "outputId": "946adace-636c-47d0-9750-01dae2dec5b4",
        "colab": {
          "base_uri": "https://localhost:8080/"
        }
      },
      "outputs": [
        {
          "output_type": "stream",
          "name": "stdout",
          "text": [
            "['March 11, 2016']\n",
            "['March 11, 2016']\n",
            "['February 12, 2016']\n",
            "['March 25, 2016']\n"
          ]
        }
      ],
      "source": [
        "f = open('/scraping_a.txt')\n",
        "content = f.readlines()\n",
        "f.close()\n",
        "for line in content: #iterate through every line\n",
        "    #print(line)\n",
        "    x = re.findall('[a-zA-Z]+\\s[0-9][0-9],\\s[0-9]{4}', line)\n",
        "    #if a date is found\n",
        "    if len(x) != 0:\n",
        "        print(x)"
      ]
    },
    {
      "cell_type": "markdown",
      "metadata": {
        "id": "CSIekAMRmfpQ"
      },
      "source": [
        "### Compiling Patterns"
      ]
    },
    {
      "cell_type": "code",
      "execution_count": null,
      "metadata": {
        "id": "YSuCC_SgmfpQ",
        "outputId": "62e289fe-7c19-455d-d803-05f9e8cf4c8e",
        "colab": {
          "base_uri": "https://localhost:8080/"
        }
      },
      "outputs": [
        {
          "output_type": "stream",
          "name": "stdout",
          "text": [
            "007\n"
          ]
        }
      ],
      "source": [
        "pattern = re.compile(r\"\\d+\") # any numerics [0-9]+\n",
        "\n",
        "string = \"007 James Bond\"\n",
        "\n",
        "result = pattern.match(string)\n",
        "\n",
        "print(result.group())"
      ]
    },
    {
      "cell_type": "markdown",
      "metadata": {
        "id": "LGxHh5Q3mfpR"
      },
      "source": [
        "create an object with the search pattern"
      ]
    },
    {
      "cell_type": "code",
      "execution_count": null,
      "metadata": {
        "id": "vr_cNA--mfpR"
      },
      "outputs": [],
      "source": [
        "pattern = re.compile(r\"[a-zA-Z]+\\s[0-9][0-9],\\s[0-9]{4}\")"
      ]
    },
    {
      "cell_type": "markdown",
      "metadata": {
        "id": "9Q0nOoMCmfpR"
      },
      "source": [
        "Clean text: combine all lines, remove trailing spaces and new lines"
      ]
    },
    {
      "cell_type": "code",
      "execution_count": null,
      "metadata": {
        "id": "6M6u7TQImfpR",
        "outputId": "a244ed63-8ca9-49ae-dfa2-78ecd0bff6d9",
        "colab": {
          "base_uri": "https://localhost:8080/"
        }
      },
      "outputs": [
        {
          "output_type": "stream",
          "name": "stdout",
          "text": [
            "Friday, March 11, 2016 8:35 to 9:35 a.m. Barona Resort 1932 Wildcat Canyon Road Lakeside, CA 92040 643765rdddtFriday, March 11, 2016iyfutkdkyrz ITEM NO. +1. The Executive Committee is asked to review and approve the minutes from its February 12, 2016, meeting. +3A. Draft Board Business Agenda - March 25, 2016 +3B. Draft Board Policy Agenda --iytdutrs April 8, 2016khnckhnc +4.\n"
          ]
        }
      ],
      "source": [
        "strings = \" \".join(line.strip().rstrip(\"\\n\") for line in content)\n",
        "print(strings)\n"
      ]
    },
    {
      "cell_type": "code",
      "execution_count": null,
      "metadata": {
        "id": "fUqFOzVrmfpS",
        "outputId": "80c4665f-8216-4ce2-b43f-b370ae1e2f8a",
        "colab": {
          "base_uri": "https://localhost:8080/"
        }
      },
      "outputs": [
        {
          "output_type": "execute_result",
          "data": {
            "text/plain": [
              "['March 11, 2016', 'March 11, 2016', 'February 12, 2016', 'March 25, 2016']"
            ]
          },
          "metadata": {},
          "execution_count": 9
        }
      ],
      "source": [
        "re.findall(pattern, strings)"
      ]
    },
    {
      "cell_type": "markdown",
      "metadata": {
        "id": "Gl1fb_5PmfpS"
      },
      "source": [
        "### Manipulating Strings\n",
        "\n",
        "split into words"
      ]
    },
    {
      "cell_type": "code",
      "execution_count": null,
      "metadata": {
        "id": "JjU7Vt4jmfpS",
        "outputId": "7405fd89-7c77-4c3b-b5e4-9fdcb49dd4ad",
        "colab": {
          "base_uri": "https://localhost:8080/"
        }
      },
      "outputs": [
        {
          "output_type": "execute_result",
          "data": {
            "text/plain": [
              "['Friday',\n",
              " 'March',\n",
              " '11',\n",
              " '2016',\n",
              " '8',\n",
              " '35',\n",
              " 'to',\n",
              " '9',\n",
              " '35',\n",
              " 'a',\n",
              " 'm',\n",
              " 'Barona',\n",
              " 'Resort',\n",
              " '1932',\n",
              " 'Wildcat',\n",
              " 'Canyon',\n",
              " 'Road',\n",
              " 'Lakeside',\n",
              " 'CA',\n",
              " '92040',\n",
              " '643765rdddtFriday',\n",
              " 'March',\n",
              " '11',\n",
              " '2016iyfutkdkyrz',\n",
              " 'ITEM',\n",
              " 'NO',\n",
              " '1',\n",
              " 'The',\n",
              " 'Executive',\n",
              " 'Committee',\n",
              " 'is',\n",
              " 'asked',\n",
              " 'to',\n",
              " 'review',\n",
              " 'and',\n",
              " 'approve',\n",
              " 'the',\n",
              " 'minutes',\n",
              " 'from',\n",
              " 'its',\n",
              " 'February',\n",
              " '12',\n",
              " '2016',\n",
              " 'meeting',\n",
              " '3A',\n",
              " 'Draft',\n",
              " 'Board',\n",
              " 'Business',\n",
              " 'Agenda',\n",
              " '',\n",
              " 'March',\n",
              " '25',\n",
              " '2016',\n",
              " '',\n",
              " '3B',\n",
              " 'Draft',\n",
              " 'Board',\n",
              " 'Policy',\n",
              " 'Agenda',\n",
              " '',\n",
              " 'iytdutrs',\n",
              " 'April',\n",
              " '8',\n",
              " '2016khnckhnc',\n",
              " '',\n",
              " '4',\n",
              " 'Saturday',\n",
              " 'March',\n",
              " '12',\n",
              " '2016',\n",
              " '12',\n",
              " '30',\n",
              " 'to',\n",
              " '13',\n",
              " '35',\n",
              " 'p',\n",
              " 'm',\n",
              " 'Wailea',\n",
              " 'Resort',\n",
              " 'ITEM',\n",
              " 'NO',\n",
              " '1',\n",
              " 'The',\n",
              " 'Executive',\n",
              " 'committee',\n",
              " 'adjorns']"
            ]
          },
          "metadata": {},
          "execution_count": 13
        }
      ],
      "source": [
        "regex = re.compile('\\s+|\\W+')\n",
        "regex.split(strings)"
      ]
    },
    {
      "cell_type": "code",
      "execution_count": null,
      "metadata": {
        "id": "-omfjoT2mfpS",
        "outputId": "bbc123dd-0c6e-4e3d-a639-56b685a9dbba",
        "colab": {
          "base_uri": "https://localhost:8080/",
          "height": 124
        }
      },
      "outputs": [
        {
          "output_type": "execute_result",
          "data": {
            "text/plain": [
              "'Friday, March 11, 2016 8:35 to 9:35 a.m. Barona Resort 1932 Wildcat Canyon Road Lakeside, CA 92040 643765rdddtFriday, March 11, 2016iyfutkdkyrz ITEM NO. +1. The Executive Committee is asked to review and approve the minutes from its February 12, 2016, meeting. +3A. Draft Board Business Agenda - March 25, 2016 +3B. Draft Board Policy Agenda --iytdutrs April 8, 2016khnckhnc +4. Saturday, March 12, 2016 12:30 to 13:35 p.m. Wailea Resort ITEM NO. +1. The Executive committee adjorns'"
            ],
            "application/vnd.google.colaboratory.intrinsic+json": {
              "type": "string"
            }
          },
          "metadata": {},
          "execution_count": 14
        }
      ],
      "source": [
        "strings"
      ]
    },
    {
      "cell_type": "code",
      "execution_count": null,
      "metadata": {
        "id": "zomDWGVEmfpT",
        "outputId": "0926e7a7-0b2c-4220-9320-735298306418",
        "colab": {
          "base_uri": "https://localhost:8080/"
        }
      },
      "outputs": [
        {
          "output_type": "execute_result",
          "data": {
            "text/plain": [
              "['8:35 to 9:35 a.m.', '12:30 to 13:35 p.m.']"
            ]
          },
          "metadata": {},
          "execution_count": 15
        }
      ],
      "source": [
        "f = open('/scraping_b.txt')\n",
        "content = f.readlines()\n",
        "f.close()\n",
        "strings = \" \".join(line.strip().rstrip(\"\\n\") for line in content)\n",
        "pattern2 = re.compile(r\"[\\d]+:[\\d]+\\sto\\s[\\d]+:[\\d]+\\s[a|p].m.\")\n",
        "re.findall(pattern2, strings)\n"
      ]
    },
    {
      "cell_type": "code",
      "execution_count": null,
      "metadata": {
        "id": "9TF41mD-mfpT"
      },
      "outputs": [],
      "source": []
    }
  ],
  "metadata": {
    "kernelspec": {
      "display_name": "Python 3 (ipykernel)",
      "language": "python",
      "name": "python3"
    },
    "language_info": {
      "codemirror_mode": {
        "name": "ipython",
        "version": 3
      },
      "file_extension": ".py",
      "mimetype": "text/x-python",
      "name": "python",
      "nbconvert_exporter": "python",
      "pygments_lexer": "ipython3",
      "version": "3.8.12"
    },
    "colab": {
      "provenance": [],
      "include_colab_link": true
    }
  },
  "nbformat": 4,
  "nbformat_minor": 0
}