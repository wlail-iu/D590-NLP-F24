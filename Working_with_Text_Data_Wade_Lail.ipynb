{
  "cells": [
    {
      "cell_type": "markdown",
      "metadata": {
        "id": "view-in-github",
        "colab_type": "text"
      },
      "source": [
        "<a href=\"https://colab.research.google.com/github/wlail-iu/D590-NLP-F24/blob/main/Working_with_Text_Data_Wade_Lail.ipynb\" target=\"_parent\"><img src=\"https://colab.research.google.com/assets/colab-badge.svg\" alt=\"Open In Colab\"/></a>"
      ]
    },
    {
      "cell_type": "markdown",
      "metadata": {
        "id": "beVVTvcS-g4i"
      },
      "source": [
        "# Strings\n",
        "\n",
        "wlail-iu\\Fall 2024 NLP\n",
        "\n",
        "Objective - to practice working with strings (python type)\n",
        "\n",
        "Make sure to copy the Colab file to your directory (otherwise your changes will not be saved!)"
      ]
    },
    {
      "cell_type": "code",
      "execution_count": null,
      "metadata": {
        "id": "G5q_VdxE-g4i"
      },
      "outputs": [],
      "source": [
        "new_string = \"This is a String\"  # storing a string\n",
        "\n",
        "print('ID:', id(new_string))  # shows the object identifier (address)\n",
        "print('Type:', type(new_string))  # shows the object type\n",
        "print('Value:', new_string)  # shows the object value"
      ]
    },
    {
      "cell_type": "code",
      "execution_count": null,
      "metadata": {
        "id": "AQEexjPO-g4i"
      },
      "outputs": [],
      "source": [
        "# simple string\n",
        "simple_string = 'Hello!' + \" I'm a simple string\"\n",
        "print(simple_string)"
      ]
    },
    {
      "cell_type": "code",
      "execution_count": null,
      "metadata": {
        "id": "H8sCyt91-g4i"
      },
      "outputs": [],
      "source": [
        "# multi-line string, note the \\n (newline) escape character automatically created\n",
        "multi_line_string = \"\"\"Hello I'm\n",
        "a multi-line\n",
        "string!\"\"\"\n",
        "\n",
        "multi_line_string"
      ]
    },
    {
      "cell_type": "code",
      "execution_count": null,
      "metadata": {
        "id": "4knEaO2e-g4j"
      },
      "outputs": [],
      "source": [
        "print(multi_line_string)"
      ]
    },
    {
      "cell_type": "code",
      "execution_count": null,
      "metadata": {
        "id": "fy7BMA9P-g4j"
      },
      "outputs": [],
      "source": [
        "# Normal string with escape sequences leading to a wrong file path!\n",
        "escaped_string = \"C:\\the_folder\\new_dir\\file.txt\"\n",
        "print(escaped_string)  # will cause errors if we try to open a file here"
      ]
    },
    {
      "cell_type": "code",
      "execution_count": null,
      "metadata": {
        "id": "8jdblpxe-g4j"
      },
      "outputs": [],
      "source": [
        "# raw string keeping the backslashes in its normal form\n",
        "raw_string = r'C:\\the_folder\\new_dir\\file.txt'\n",
        "print(raw_string)"
      ]
    },
    {
      "cell_type": "code",
      "execution_count": null,
      "metadata": {
        "id": "bdWOcli--g4j"
      },
      "outputs": [],
      "source": [
        "# unicode string literals\n",
        "string_with_unicode = 'H\\u00e8llo!'\n",
        "print(string_with_unicode)"
      ]
    },
    {
      "cell_type": "code",
      "execution_count": null,
      "metadata": {
        "id": "8-xQtx1n-g4j"
      },
      "outputs": [],
      "source": [
        "more_unicode = 'I love Pizza 🍕!  Shall we book a cab 🚕 to get pizza?'\n",
        "print(more_unicode)"
      ]
    },
    {
      "cell_type": "code",
      "execution_count": null,
      "metadata": {
        "id": "oLPaBxyQ-g4k"
      },
      "outputs": [],
      "source": [
        "print(string_with_unicode + '\\n' + more_unicode) # \\n is new line"
      ]
    },
    {
      "cell_type": "code",
      "execution_count": null,
      "metadata": {
        "id": "A0ZZKIp8-g4k"
      },
      "outputs": [],
      "source": [
        "' '.join([string_with_unicode, more_unicode]) # joining two strings"
      ]
    },
    {
      "cell_type": "code",
      "execution_count": null,
      "metadata": {
        "id": "U5MuAgPV-g4k"
      },
      "outputs": [],
      "source": [
        "more_unicode[::-1]  # reverses the string"
      ]
    },
    {
      "cell_type": "markdown",
      "metadata": {
        "id": "0yUws-AW-g4k"
      },
      "source": [
        "# String operations\n"
      ]
    },
    {
      "cell_type": "markdown",
      "metadata": {
        "id": "JpRmUauH-g4k"
      },
      "source": [
        "## Different ways of String concatenation\n"
      ]
    },
    {
      "cell_type": "code",
      "execution_count": null,
      "metadata": {
        "scrolled": true,
        "id": "VIE55gdm-g4k"
      },
      "outputs": [],
      "source": [
        "'Hello 😊' + ' and welcome ' + 'to Python 🐍!'"
      ]
    },
    {
      "cell_type": "code",
      "execution_count": null,
      "metadata": {
        "id": "7yEx685L-g4k"
      },
      "outputs": [],
      "source": [
        "'Hello 😊' ' and welcome ' 'to Python 🐍!'"
      ]
    },
    {
      "cell_type": "code",
      "execution_count": null,
      "metadata": {
        "id": "Yl3OBrhp-g4k"
      },
      "outputs": [],
      "source": [
        "# concatenation of variables and literals"
      ]
    },
    {
      "cell_type": "code",
      "execution_count": null,
      "metadata": {
        "id": "zH6TLPZG-g4k"
      },
      "outputs": [],
      "source": [
        "s1 = 'Python 💻!'\n",
        "'Hello 😊 ' + s1"
      ]
    },
    {
      "cell_type": "code",
      "execution_count": null,
      "metadata": {
        "id": "C2iV_0QX-g4k"
      },
      "outputs": [],
      "source": [
        "# This will produce an error! You need plus sign!\n",
        "'Hello 😊 ' s1"
      ]
    },
    {
      "cell_type": "code",
      "execution_count": null,
      "metadata": {
        "id": "AR3jSF46-g4k"
      },
      "outputs": [],
      "source": [
        "# some more ways of concatenating strings"
      ]
    },
    {
      "cell_type": "code",
      "execution_count": null,
      "metadata": {
        "id": "VfnKxpXQ-g4k"
      },
      "outputs": [],
      "source": [
        "# You can multiply the same string!\n",
        "s2 = '--🐍Python🐍--'\n",
        "s2 * 5"
      ]
    },
    {
      "cell_type": "code",
      "execution_count": null,
      "metadata": {
        "id": "rZRSt2JY-g4l"
      },
      "outputs": [],
      "source": [
        "# concatenating several strings together in parentheses"
      ]
    },
    {
      "cell_type": "code",
      "execution_count": null,
      "metadata": {
        "id": "N_iMwaVz-g4l"
      },
      "outputs": [],
      "source": [
        "# checking for substrings in a string"
      ]
    },
    {
      "cell_type": "code",
      "execution_count": null,
      "metadata": {
        "id": "14xItORU-g4l"
      },
      "outputs": [],
      "source": [
        "'Python' in s1"
      ]
    },
    {
      "cell_type": "code",
      "execution_count": null,
      "metadata": {
        "id": "cSEmSoVf-g4l"
      },
      "outputs": [],
      "source": [
        "'python' in s2"
      ]
    },
    {
      "cell_type": "code",
      "execution_count": null,
      "metadata": {
        "id": "W3znqgco-g4l"
      },
      "outputs": [],
      "source": [
        "# computing total length of the string"
      ]
    },
    {
      "cell_type": "code",
      "execution_count": null,
      "metadata": {
        "id": "ffnjUfT3-g4l"
      },
      "outputs": [],
      "source": [
        "len(s2)"
      ]
    },
    {
      "cell_type": "markdown",
      "metadata": {
        "id": "9F-T2XkP-g4l"
      },
      "source": [
        "# String indexing and slicing"
      ]
    },
    {
      "cell_type": "code",
      "execution_count": null,
      "metadata": {
        "id": "0X2a2LHq-g4l"
      },
      "outputs": [],
      "source": [
        "# creating a string\n",
        "s = 'PYTHON'\n",
        "print(s)\n",
        "print(type(s))"
      ]
    },
    {
      "cell_type": "markdown",
      "metadata": {
        "id": "eDGsRbsT-g4l"
      },
      "source": [
        "## String indexing"
      ]
    },
    {
      "cell_type": "code",
      "execution_count": null,
      "metadata": {
        "id": "pEqVx_b_-g4l"
      },
      "outputs": [],
      "source": [
        "# depicting string indexes\n",
        "for index, character in enumerate(s):\n",
        "    print('Character ->', character, 'has index->', index)"
      ]
    },
    {
      "cell_type": "code",
      "execution_count": null,
      "metadata": {
        "id": "NF7TuzE--g4l"
      },
      "outputs": [],
      "source": [
        "# print one letter at a time based on the index position\n",
        "s[0], s[1], s[2], s[3], s[4], s[5]"
      ]
    },
    {
      "cell_type": "code",
      "execution_count": null,
      "metadata": {
        "id": "iQLc6vxb-g4l"
      },
      "outputs": [],
      "source": [
        "# Can you guess what happens here?\n",
        "s[-1], s[-2], s[-3], s[-4], s[-5], s[-6]"
      ]
    },
    {
      "cell_type": "markdown",
      "metadata": {
        "id": "kby5GgQX-g4l"
      },
      "source": [
        "## String slicing"
      ]
    },
    {
      "cell_type": "code",
      "execution_count": null,
      "metadata": {
        "id": "qo12Axym-g4o"
      },
      "outputs": [],
      "source": [
        "# everything\n",
        "s[:]"
      ]
    },
    {
      "cell_type": "code",
      "execution_count": null,
      "metadata": {
        "id": "a02Ec4yl-g4o"
      },
      "outputs": [],
      "source": [
        "# from index 1 up to 4\n",
        "s[1:4]"
      ]
    },
    {
      "cell_type": "code",
      "execution_count": null,
      "metadata": {
        "id": "HSfhYqDf-g4p"
      },
      "outputs": [],
      "source": [
        "# from zero up to 3 and from 3 to the end\n",
        "s[:3], s[3:]"
      ]
    },
    {
      "cell_type": "markdown",
      "metadata": {
        "id": "pte7Mo_A-g4q"
      },
      "source": [
        "# Useful String methods"
      ]
    },
    {
      "cell_type": "markdown",
      "metadata": {
        "id": "TbDKAPoR-g4q"
      },
      "source": [
        "## Case conversions"
      ]
    },
    {
      "cell_type": "code",
      "execution_count": null,
      "metadata": {
        "id": "4eNo4zb5-g4q"
      },
      "outputs": [],
      "source": [
        "s = 'python is great'"
      ]
    },
    {
      "cell_type": "code",
      "execution_count": null,
      "metadata": {
        "id": "7G6TIm8L-g4q"
      },
      "outputs": [],
      "source": [
        "s.capitalize()"
      ]
    },
    {
      "cell_type": "code",
      "execution_count": null,
      "metadata": {
        "id": "th_n6RYu-g4q"
      },
      "outputs": [],
      "source": [
        "s.upper()"
      ]
    },
    {
      "cell_type": "code",
      "execution_count": null,
      "metadata": {
        "id": "AUkysuoV-g4q"
      },
      "outputs": [],
      "source": [
        "s.title()"
      ]
    },
    {
      "cell_type": "markdown",
      "metadata": {
        "id": "htL0lOnc-g4q"
      },
      "source": [
        "## String replace"
      ]
    },
    {
      "cell_type": "code",
      "execution_count": null,
      "metadata": {
        "id": "JSl36DRA-g4q"
      },
      "outputs": [],
      "source": [
        "s.replace('python', 'NLP')"
      ]
    },
    {
      "cell_type": "markdown",
      "metadata": {
        "id": "jwU5g0EF-g4q"
      },
      "source": [
        "## Numeric checks"
      ]
    },
    {
      "cell_type": "code",
      "execution_count": null,
      "metadata": {
        "id": "ebBnhUdO-g4q"
      },
      "outputs": [],
      "source": [
        "'12345'.isdecimal()"
      ]
    },
    {
      "cell_type": "code",
      "execution_count": null,
      "metadata": {
        "id": "6HDdF0Hn-g4q"
      },
      "outputs": [],
      "source": [
        "'apollo11'.isdecimal()"
      ]
    },
    {
      "cell_type": "markdown",
      "metadata": {
        "id": "qdB0h2RT-g4q"
      },
      "source": [
        "## Alphabet checks"
      ]
    },
    {
      "cell_type": "code",
      "execution_count": null,
      "metadata": {
        "id": "spFOhBhU-g4q"
      },
      "outputs": [],
      "source": [
        "'python'.isalpha()"
      ]
    },
    {
      "cell_type": "markdown",
      "metadata": {
        "id": "pcVUNZSM-g4r"
      },
      "source": [
        "## Alphanumeric checks\n",
        "(Letter and digits)"
      ]
    },
    {
      "cell_type": "code",
      "execution_count": null,
      "metadata": {
        "id": "V2SSjfTC-g4r"
      },
      "outputs": [],
      "source": [
        "'total'.isalnum()"
      ]
    },
    {
      "cell_type": "code",
      "execution_count": null,
      "metadata": {
        "id": "5ld7YR8W-g4r"
      },
      "outputs": [],
      "source": [
        "'abc123'.isalnum()"
      ]
    },
    {
      "cell_type": "code",
      "execution_count": null,
      "metadata": {
        "id": "pnUJ4xck-g4r"
      },
      "outputs": [],
      "source": [
        "'1+1'.isalnum()"
      ]
    },
    {
      "cell_type": "markdown",
      "metadata": {
        "id": "6PAk7PUV-g4r"
      },
      "source": [
        "## String splitting and joining"
      ]
    },
    {
      "cell_type": "code",
      "execution_count": null,
      "metadata": {
        "id": "E_eyNKlV-g4r"
      },
      "outputs": [],
      "source": [
        "# very useful!\n",
        "s = 'I,am,a,comma,separated,string'\n",
        "s.split(',')"
      ]
    },
    {
      "cell_type": "code",
      "execution_count": null,
      "metadata": {
        "id": "Usqlu03u-g4r"
      },
      "outputs": [],
      "source": [
        "' '.join(s.split(','))"
      ]
    },
    {
      "cell_type": "code",
      "execution_count": null,
      "metadata": {
        "id": "jEGmadgT-g4r"
      },
      "outputs": [],
      "source": [
        "# stripping whitespace characters\n",
        "s = '   I am surrounded by spaces    '\n",
        "s"
      ]
    },
    {
      "cell_type": "code",
      "execution_count": null,
      "metadata": {
        "id": "KsrfBVrn-g4r"
      },
      "outputs": [],
      "source": [
        "# do you see any white space anymore at the beginning and at the end?\n",
        "s.strip()"
      ]
    },
    {
      "cell_type": "code",
      "execution_count": null,
      "metadata": {
        "id": "Iob6TqWN-g4r"
      },
      "outputs": [],
      "source": [
        "#Split by dot\n",
        "sentences = 'Python is great. NLP is also good.'\n",
        "sentences.split('.')"
      ]
    },
    {
      "cell_type": "code",
      "execution_count": null,
      "metadata": {
        "id": "PcZynpHt-g4r"
      },
      "outputs": [],
      "source": [
        "# split by dot and join with \\n new line\n",
        "print('\\n'.join(sentences.split('.')))"
      ]
    },
    {
      "cell_type": "code",
      "execution_count": null,
      "metadata": {
        "id": "3_eQ83UP-g4r"
      },
      "outputs": [],
      "source": [
        "print('\\n'.join([sentence.strip()\n",
        "                     for sentence in sentences.split('.')\n",
        "                         if sentence]))"
      ]
    },
    {
      "cell_type": "markdown",
      "metadata": {
        "id": "ozbMSIXX-g4r"
      },
      "source": [
        "# String formatting"
      ]
    },
    {
      "cell_type": "markdown",
      "metadata": {
        "id": "aDQeEXpI-g4s"
      },
      "source": [
        "## Formatting strings using the format method - new style"
      ]
    },
    {
      "cell_type": "code",
      "execution_count": null,
      "metadata": {
        "id": "dPh3N4oE-g4s"
      },
      "outputs": [],
      "source": [
        "# can you see what goes into each curly brackets?\n",
        "'Hello {} {}, it is a great {} to meet you at {}'.format('Mr.', 'Jones', 'pleasure', 5)"
      ]
    },
    {
      "cell_type": "code",
      "execution_count": null,
      "metadata": {
        "id": "eol7MQ53-g4s"
      },
      "outputs": [],
      "source": [
        "'Hello {} {}, it is a great {} to meet you at {} o\\' clock'.format('Sir', 'Arthur', 'honor', 9)"
      ]
    }
  ],
  "metadata": {
    "anaconda-cloud": {},
    "kernelspec": {
      "display_name": "Python 3",
      "language": "python",
      "name": "python3"
    },
    "language_info": {
      "codemirror_mode": {
        "name": "ipython",
        "version": 3
      },
      "file_extension": ".py",
      "mimetype": "text/x-python",
      "name": "python",
      "nbconvert_exporter": "python",
      "pygments_lexer": "ipython3",
      "version": "3.6.5"
    },
    "colab": {
      "provenance": [],
      "include_colab_link": true
    }
  },
  "nbformat": 4,
  "nbformat_minor": 0
}